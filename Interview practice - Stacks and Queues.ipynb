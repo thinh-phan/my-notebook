{
 "cells": [
  {
   "cell_type": "markdown",
   "metadata": {},
   "source": [
    "3.1 Three in One"
   ]
  },
  {
   "cell_type": "code",
   "execution_count": 1,
   "metadata": {},
   "outputs": [],
   "source": [
    "class ThreeStacks():\n",
    "    def __init__(self):\n",
    "        self.array = [None, None, None]\n",
    "        self.current = [0, 1, 2]\n",
    "        \n",
    "    def push(self, item, stack_number):\n",
    "        if not stack_number in [0, 1, 2]:\n",
    "            raise Exception(\"Bad stack number\")\n",
    "        while len(self.array) <= self.current[stack_number]:\n",
    "            self.array += [None] * len(self.array)\n",
    "        self.array[self.current[stack_number]] = item\n",
    "        self.current[stack_number] += 3\n",
    "    \n",
    "    def pop(self, stack_number):\n",
    "        if not stack_number in [0, 1, 2]:\n",
    "            raise Exception(\"Bad stack number\")\n",
    "        if self.current[stack_number] > 3:\n",
    "            self.current[stack_number] -= 3\n",
    "        item = self.array[self.current[stack_number]]\n",
    "        self.array[self.current[stack_number]] = None\n",
    "        return item"
   ]
  },
  {
   "cell_type": "markdown",
   "metadata": {},
   "source": [
    "3.2 Stack Min"
   ]
  },
  {
   "cell_type": "code",
   "execution_count": 2,
   "metadata": {},
   "outputs": [],
   "source": [
    "from typing import Optional\n",
    "\n",
    "class Stack:\n",
    "    def __init__(self):\n",
    "        self._data = []\n",
    "        self._min_state = []\n",
    "    \n",
    "    def push(self, new_value: int):\n",
    "        self._data.append(new_value)\n",
    "        \n",
    "        self._min_state.append(\n",
    "            new_value if not self._min_state or new_value < self._min_state[-1] else self._min_state[-1]\n",
    "        )\n",
    "    \n",
    "    def pop(self) -> Optional[int]:\n",
    "        if self._data:\n",
    "            self._data.pop()\n",
    "            self._min_state.pop()\n",
    "        else:\n",
    "            return None\n",
    "\n",
    "    def min(self) -> Optional[int]:\n",
    "        if self._min_state:\n",
    "            return self._min_state[-1]\n",
    "        else:\n",
    "            return None\n",
    "    \n",
    "    def __str__(self) -> str:\n",
    "        return \"\"\"\n",
    "        Stack:\n",
    "            data: {}\n",
    "            min_state: {}\n",
    "        \"\"\".format(self._data, self._min_state)"
   ]
  },
  {
   "cell_type": "code",
   "execution_count": 3,
   "metadata": {},
   "outputs": [
    {
     "name": "stdout",
     "output_type": "stream",
     "text": [
      "\n",
      "        Stack:\n",
      "            data: [5, 4, 3, 2, 1]\n",
      "            min_state: [5, 4, 3, 2, 1]\n",
      "        \n",
      "\n",
      "        Stack:\n",
      "            data: [1, 2, 3, 4, 5]\n",
      "            min_state: [1, 1, 1, 1, 1]\n",
      "        \n"
     ]
    }
   ],
   "source": [
    "stack = Stack()\n",
    "\n",
    "for i in [5, 4, 3, 2, 1]:\n",
    "    stack.push(i)\n",
    "\n",
    "print(stack)\n",
    "\n",
    "new_stack = Stack()\n",
    "\n",
    "for i in [1, 2, 3, 4, 5]:\n",
    "    new_stack.push(i)\n",
    "\n",
    "print(new_stack)"
   ]
  },
  {
   "cell_type": "markdown",
   "metadata": {},
   "source": [
    "3.3 Stack of Plates"
   ]
  },
  {
   "cell_type": "code",
   "execution_count": 4,
   "metadata": {},
   "outputs": [],
   "source": [
    "from typing import List, TypeVar, Generic, Optional\n",
    "\n",
    "T = TypeVar('T')\n",
    "\n",
    "class Stack(Generic[T]):\n",
    "    _data: List[T]\n",
    "    _threshold: int\n",
    "    \n",
    "    def __init__(self, threshold: int = 100):\n",
    "        self._data = []\n",
    "        self._threshold = threshold\n",
    "    \n",
    "    def push(self, new_value: T) -> bool:\n",
    "        if self.count() < self._threshold:\n",
    "            self._data.append(new_value)\n",
    "            return True\n",
    "        else:\n",
    "            return False\n",
    "    \n",
    "    def pop(self) -> T:\n",
    "        return self._data.pop()\n",
    "    \n",
    "    def count(self) -> int:\n",
    "        return len(self._data)\n",
    "    \n",
    "    def __str__(self) -> str:\n",
    "        return str(self._data)\n",
    "    \n",
    "class SetOfStacks(Generic[T]):\n",
    "    _sets_of_stack: List[Stack]\n",
    "    _current_stack_index: Optional[int]\n",
    "\n",
    "    def __init__(self, threshold: int = 100):\n",
    "        assert threshold > 1\n",
    "\n",
    "        self._sets_of_stack = [Stack(threshold)]\n",
    "        self._current_stack_index = 0\n",
    "        self._threshold = threshold\n",
    "    \n",
    "    def push(self, new_value: T):\n",
    "        stack = self._sets_of_stack[self._current_stack_index]\n",
    "        \n",
    "        if not stack.push(new_value):\n",
    "            stack = Stack(self._threshold)\n",
    "            \n",
    "            self._sets_of_stack.append(stack)\n",
    "            self._current_stack_index += 1\n",
    "            \n",
    "            stack.push(new_value)\n",
    "    \n",
    "    def pop(self) -> T:\n",
    "        stack = self._sets_of_stack[self._current_stack_index]\n",
    "        \n",
    "        returned_value = stack.pop()\n",
    "        \n",
    "        if stack.count() == 0:\n",
    "            self._sets_of_stack.pop()\n",
    "            self._current_stack_index -= 1\n",
    "        \n",
    "        return returned_value\n",
    "    \n",
    "    def pop_at(self, substack_index: int) -> T:\n",
    "        stack = self._sets_of_stack[substack_index]\n",
    "        \n",
    "        returned_value = stack.pop()\n",
    "        \n",
    "        if stack.count() == 0:\n",
    "            self._sets_of_stack = self._sets_of_stack[:substack_index] + self._sets_of_stack[substack_index + 1:]\n",
    "            self._current_stack_index -= 1\n",
    "        \n",
    "        return returned_value\n",
    "    \n",
    "    def __str__(self) -> str:\n",
    "        return '\\n'.join([str(stack) for stack in self._sets_of_stack])"
   ]
  },
  {
   "cell_type": "code",
   "execution_count": 5,
   "metadata": {},
   "outputs": [
    {
     "name": "stdout",
     "output_type": "stream",
     "text": [
      "[1, 2]\n",
      "[3, 4]\n",
      "[5]\n",
      "--------------\n",
      "[1, 2]\n",
      "[3, 4]\n",
      "--------------\n",
      "[1, 2]\n",
      "[3]\n"
     ]
    }
   ],
   "source": [
    "set_of_stacks: SetOfStacks[int] = SetOfStacks(2)\n",
    "\n",
    "set_of_stacks.push(1)\n",
    "set_of_stacks.push(2)\n",
    "set_of_stacks.push(3)\n",
    "set_of_stacks.push(4)\n",
    "set_of_stacks.push(5)\n",
    "\n",
    "print(set_of_stacks)\n",
    "\n",
    "print('--------------')\n",
    "set_of_stacks.pop()\n",
    "\n",
    "print(set_of_stacks)\n",
    "\n",
    "print('--------------')\n",
    "set_of_stacks.pop()\n",
    "\n",
    "print(set_of_stacks)"
   ]
  },
  {
   "cell_type": "markdown",
   "metadata": {},
   "source": [
    "3.4 Queue via Stacks"
   ]
  },
  {
   "cell_type": "code",
   "execution_count": 6,
   "metadata": {},
   "outputs": [],
   "source": [
    "from typing import List, TypeVar, Generic\n",
    "\n",
    "T = TypeVar('T')\n",
    "\n",
    "class Stack(Generic[T]):\n",
    "    _data: List[T]\n",
    "    \n",
    "    def __init__(self):\n",
    "        self._data = []\n",
    "    \n",
    "    def push(self, new_value: T):\n",
    "        return self._data.append(new_value)\n",
    "    \n",
    "    def pop(self) -> T:\n",
    "        return self._data.pop()\n",
    "    \n",
    "    def peek(self) -> int:\n",
    "        return self._data[-1]\n",
    "    \n",
    "    def is_empty(self):\n",
    "        return len(self._data) == 0\n",
    "    \n",
    "    def __str__(self) -> str:\n",
    "        return str(self._data)"
   ]
  },
  {
   "cell_type": "code",
   "execution_count": 7,
   "metadata": {},
   "outputs": [],
   "source": [
    "class Queue(Generic[T]):\n",
    "    def __init__(self):\n",
    "        self.inbox = Stack()\n",
    "        self.outbox = Stack()\n",
    "\n",
    "    def queue(self, new_value: T):\n",
    "        self.inbox.push(new_value)\n",
    "\n",
    "    def dequeue(self):\n",
    "        if self.outbox.is_empty():\n",
    "            while not self.inbox.is_empty():\n",
    "                self.outbox.push(self.inbox.pop())\n",
    "\n",
    "        return self.outbox.pop()"
   ]
  },
  {
   "cell_type": "code",
   "execution_count": 8,
   "metadata": {},
   "outputs": [
    {
     "name": "stdout",
     "output_type": "stream",
     "text": [
      "1\n",
      "2\n",
      "3\n",
      "4\n"
     ]
    }
   ],
   "source": [
    "from typing import get_type_hints\n",
    "\n",
    "queue: Queue[int] = Queue()\n",
    "\n",
    "queue.queue(1)\n",
    "queue.queue(2)\n",
    "queue.queue(3)\n",
    "queue.queue(4)\n",
    "\n",
    "print(queue.dequeue())\n",
    "print(queue.dequeue())\n",
    "print(queue.dequeue())\n",
    "print(queue.dequeue())"
   ]
  },
  {
   "cell_type": "markdown",
   "metadata": {},
   "source": [
    "3.5 Sort Stack"
   ]
  },
  {
   "cell_type": "code",
   "execution_count": 9,
   "metadata": {},
   "outputs": [],
   "source": [
    "def sort_stack(stack: Stack[int]) -> Stack[int]:\n",
    "    result_stack: Stack[int] = Stack()\n",
    "    \n",
    "    while not stack.is_empty():\n",
    "        value: int = stack.pop()\n",
    "\n",
    "        if result_stack.is_empty() or result_stack.peek() >= value:\n",
    "            result_stack.push(value)\n",
    "        else:\n",
    "            counter: int = 0\n",
    "\n",
    "            while not result_stack.is_empty():\n",
    "                stack.push(result_stack.pop())\n",
    "                counter += 1\n",
    "\n",
    "            is_added: bool = False\n",
    "\n",
    "            while counter > 0:\n",
    "                tmp_value: int = stack.pop()\n",
    "\n",
    "                if not is_added and tmp_value < value:\n",
    "                    result_stack.push(value)\n",
    "                    is_added = True\n",
    "\n",
    "                result_stack.push(tmp_value)\n",
    "                counter -= 1\n",
    "\n",
    "    return result_stack"
   ]
  },
  {
   "cell_type": "code",
   "execution_count": 10,
   "metadata": {},
   "outputs": [
    {
     "name": "stdout",
     "output_type": "stream",
     "text": [
      "[5, 7, 3, 0, 1, 2, 4, 9]\n",
      "[9, 7, 5, 4, 3, 2, 1, 0]\n"
     ]
    }
   ],
   "source": [
    "stack = Stack()\n",
    "\n",
    "stack.push(5)\n",
    "stack.push(7)\n",
    "stack.push(3)\n",
    "stack.push(0)\n",
    "stack.push(1)\n",
    "stack.push(2)\n",
    "stack.push(4)\n",
    "stack.push(9)\n",
    "\n",
    "print(stack)\n",
    "\n",
    "print(sort_stack(stack))"
   ]
  },
  {
   "cell_type": "markdown",
   "metadata": {},
   "source": [
    "3.6 Animal Shelter"
   ]
  },
  {
   "cell_type": "code",
   "execution_count": 11,
   "metadata": {},
   "outputs": [],
   "source": [
    "from typing import TypeVar, Generic, Optional, Tuple\n",
    "\n",
    "T = TypeVar('T')\n",
    "\n",
    "class LinkedList(Generic[T]):\n",
    "    pass\n",
    "\n",
    "class LinkedList(Generic[T]):\n",
    "    def __init__(self,\n",
    "                 data: T,\n",
    "                 next_node: Optional[LinkedList[T]] = None) -> None:\n",
    "        self.data: T = data\n",
    "        self.next_node: Optional[LinkedList[T]] = next_node\n",
    "\n",
    "    def __add__(self, node) -> LinkedList[T]:\n",
    "        current_node = self\n",
    "\n",
    "        while current_node.next_node:\n",
    "            current_node = current_node.next_node\n",
    "        \n",
    "        current_node.next_node = node\n",
    "\n",
    "        return self\n",
    "\n",
    "    def pop_and_remove(self) -> Tuple[T, Optional[LinkedList[T]]]:\n",
    "        data = self.data\n",
    "        next_node = self.next_node\n",
    "        \n",
    "        self.next_node = None\n",
    "        \n",
    "        return data, next_node\n",
    "    \n",
    "    def __str__(self) -> str:\n",
    "        if self.next_node:\n",
    "            return f\"{self.data} -> {self.next_node}\"\n",
    "        else:\n",
    "            return f\"{self.data}\""
   ]
  },
  {
   "cell_type": "code",
   "execution_count": 12,
   "metadata": {},
   "outputs": [],
   "source": [
    "from typing import Optional\n",
    "from enum import Enum\n",
    "\n",
    "\n",
    "class AnimalType(Enum):\n",
    "    DOG = 1\n",
    "    CAT = 2\n",
    "\n",
    "\n",
    "class Animal:\n",
    "    subtype: AnimalType\n",
    "    name: str\n",
    "\n",
    "    def __init__(self, subtype: AnimalType, name: str):\n",
    "        self.subtype = subtype\n",
    "        self.name = name\n",
    "    \n",
    "    def __str__(self) -> str:\n",
    "        return f\"{self.subtype}: {self.name}\"\n",
    "\n",
    "\n",
    "class AnimalShelter:\n",
    "    _queue: Optional[LinkedList[Animal]]\n",
    "\n",
    "    def __init__(self):\n",
    "        self._queue = None\n",
    "\n",
    "    def enqueue(self, value: Animal):\n",
    "        self._queue = self._queue + LinkedList(value) if self._queue else LinkedList(value)\n",
    "\n",
    "    def dequeue_any(self) -> Optional[Animal]:\n",
    "        if not self._queue:\n",
    "            return None\n",
    "\n",
    "        pet, self._queue = self._queue.pop_and_remove()\n",
    "        return pet\n",
    "    \n",
    "    def dequeue_by_subtype(self, subtype: AnimalType) -> Optional[Animal]:\n",
    "        runner: Optional[LinkedList[Animal]] = self._queue\n",
    "\n",
    "        while runner:\n",
    "            pet: Animal = runner.data\n",
    "\n",
    "            if pet.subtype == subtype:\n",
    "                next_node = runner.next_node\n",
    "                \n",
    "                if next_node:\n",
    "                    runner.data = next_node.data\n",
    "                    runner.next_node = next_node.next_node\n",
    "                \n",
    "                return pet\n",
    "            \n",
    "            runner = runner.next_node\n",
    "\n",
    "        return None\n",
    "\n",
    "    def dequeue_dog(self) -> Optional[Animal]:\n",
    "        return self.dequeue_by_subtype(AnimalType.DOG)\n",
    "\n",
    "    def dequeue_cat(self) -> Optional[Animal]:\n",
    "        return self.dequeue_by_subtype(AnimalType.CAT)\n",
    "\n",
    "    def __str__(self) -> str:\n",
    "        return str(self._queue)"
   ]
  },
  {
   "cell_type": "code",
   "execution_count": 13,
   "metadata": {},
   "outputs": [
    {
     "name": "stdout",
     "output_type": "stream",
     "text": [
      "AnimalType.DOG: Bailey -> AnimalType.CAT: Tiger -> AnimalType.CAT: Pussy -> AnimalType.DOG: Bella\n",
      "-------------------\n",
      "AnimalType.DOG: Bailey\n",
      "AnimalType.CAT: Tiger\n",
      "-------------------\n",
      "AnimalType.CAT: Pussy -> AnimalType.DOG: Bella\n"
     ]
    }
   ],
   "source": [
    "shelter = AnimalShelter()\n",
    "\n",
    "shelter.enqueue(Animal(AnimalType.DOG, 'Bailey'))\n",
    "shelter.enqueue(Animal(AnimalType.CAT, 'Tiger'))\n",
    "shelter.enqueue(Animal(AnimalType.CAT, 'Pussy'))\n",
    "shelter.enqueue(Animal(AnimalType.DOG, 'Bella'))\n",
    "\n",
    "print(shelter)\n",
    "print('-------------------')\n",
    "print(shelter.dequeue_any())\n",
    "print(shelter.dequeue_any())\n",
    "print('-------------------')\n",
    "print(shelter)"
   ]
  },
  {
   "cell_type": "code",
   "execution_count": 14,
   "metadata": {},
   "outputs": [],
   "source": [
    "def balanced_smileys(string):\n",
    "    min_open, max_open = 0, 0\n",
    "    \n",
    "    for index, c in enumerate(string):\n",
    "        if c == '(':\n",
    "            max_open += 1\n",
    "            \n",
    "            if index == 0 or string[index - 1] != ':':\n",
    "                min_open += 1\n",
    "        elif c == ')':\n",
    "            min_open = max(0, min_open - 1)\n",
    "            \n",
    "            if index == 0 or string[index - 1] != ':':\n",
    "                max_open -= 1\n",
    "                \n",
    "                if max_open < 0:\n",
    "                    break\n",
    "    \n",
    "    return max_open >= 0 and min_open == 0"
   ]
  },
  {
   "cell_type": "code",
   "execution_count": 15,
   "metadata": {},
   "outputs": [
    {
     "data": {
      "text/plain": [
       "True"
      ]
     },
     "execution_count": 15,
     "metadata": {},
     "output_type": "execute_result"
    }
   ],
   "source": [
    "balanced_smileys('(((:)))')"
   ]
  },
  {
   "cell_type": "code",
   "execution_count": 16,
   "metadata": {},
   "outputs": [
    {
     "data": {
      "text/plain": [
       "True"
      ]
     },
     "execution_count": 16,
     "metadata": {},
     "output_type": "execute_result"
    }
   ],
   "source": [
    "def is_valid_parenthesis(string):\n",
    "    parenthesis_count = 0\n",
    "\n",
    "    for char in string:\n",
    "        if char == '(':\n",
    "            parenthesis_count += 1\n",
    "        elif char == ')':\n",
    "            parenthesis_count -= 1\n",
    "\n",
    "            if parenthesis_count < 0:\n",
    "                return False\n",
    "\n",
    "    return parenthesis_count == 0\n",
    "    \n",
    "\n",
    "def generate_possible_ans(string):\n",
    "    length = len(string)\n",
    "\n",
    "    for idx, ch in enumerate(string):\n",
    "        if ch == ':':\n",
    "            yield string[:idx] + string[idx + 1:]\n",
    "\n",
    "            if 0 <= idx - 1 and string[idx - 1] in '()':\n",
    "                yield string[:idx - 1] + string[idx + 1:]\n",
    "\n",
    "            if idx + 1 <= length - 1 and string[idx + 1] in '()':\n",
    "                yield string[:idx] + string[idx + 2:]\n",
    "\n",
    "\n",
    "# brute force\n",
    "def balanced_smileys(string):\n",
    "    possible_ans = {string}\n",
    "\n",
    "    while possible_ans:\n",
    "        if any(is_valid_parenthesis(ans) for ans in possible_ans):\n",
    "            return True\n",
    "\n",
    "        possible_ans = {new_ans for ans in possible_ans for new_ans in generate_possible_ans(ans)}\n",
    "\n",
    "    return False\n",
    "\n",
    "\n",
    "VALID_CASES = [\")::(\", \":()\", \"()\", \":\", \"::\", \":)\", \"(:)\", \"(:))\", \"():(\", \"()()()()()):\"]\n",
    "\n",
    "INVALID_CASES = [\":((\", \"())\", \":()(\", \":)(\"]\n",
    "\n",
    "def test_is_valid():\n",
    "    return (\n",
    "        all(balanced_smileys(expression) for expression in VALID_CASES) and\n",
    "        not any(balanced_smileys(expression) for expression in INVALID_CASES)\n",
    "    )\n",
    "\n",
    "test_is_valid()"
   ]
  }
 ],
 "metadata": {
  "kernelspec": {
   "display_name": "Python 3",
   "language": "python",
   "name": "python3"
  },
  "language_info": {
   "codemirror_mode": {
    "name": "ipython",
    "version": 3
   },
   "file_extension": ".py",
   "mimetype": "text/x-python",
   "name": "python",
   "nbconvert_exporter": "python",
   "pygments_lexer": "ipython3",
   "version": "3.8.5"
  }
 },
 "nbformat": 4,
 "nbformat_minor": 4
}
