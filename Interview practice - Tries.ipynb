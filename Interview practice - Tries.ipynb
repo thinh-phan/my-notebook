{
 "cells": [
  {
   "cell_type": "code",
   "execution_count": 1,
   "metadata": {},
   "outputs": [],
   "source": [
    "class Trie():\n",
    "    def __init__(self):\n",
    "        self.nodes = {}\n",
    "        self.count = 0\n",
    "    \n",
    "    def add(self, seq):\n",
    "        if not seq:\n",
    "            return\n",
    "        \n",
    "        self.count += 1\n",
    "\n",
    "        if seq[0] not in self.nodes:\n",
    "            self.nodes[seq[0]] = Trie()\n",
    "        \n",
    "        self.nodes[seq[0]].add(seq[1:])\n",
    "\n",
    "    def find(self, seq):\n",
    "        if not seq:\n",
    "            return 0\n",
    "\n",
    "        head, *tail = seq\n",
    "\n",
    "        if head not in self.nodes:\n",
    "            return 0\n",
    "        \n",
    "        if not tail:\n",
    "            return self.count\n",
    "\n",
    "        return self.nodes[head].find(tail)"
   ]
  },
  {
   "cell_type": "code",
   "execution_count": 2,
   "metadata": {},
   "outputs": [
    {
     "name": "stdout",
     "output_type": "stream",
     "text": [
      "2\n",
      "2\n",
      "1\n"
     ]
    }
   ],
   "source": [
    "trie_root = Trie()\n",
    "\n",
    "trie_root.add(\"hack\")\n",
    "trie_root.add(\"hackerrank\")\n",
    "\n",
    "print(trie_root.find(\"hack\"))\n",
    "print(trie_root.find(\"ha\"))\n",
    "print(trie_root.find(\"hacker\"))"
   ]
  },
  {
   "cell_type": "code",
   "execution_count": 3,
   "metadata": {},
   "outputs": [],
   "source": [
    "class Trie:\n",
    "    def __init__(self):\n",
    "        self.data = [{}, 0]\n",
    "    \n",
    "    def add(self, seq):\n",
    "        pointer = self.data\n",
    "        \n",
    "        pointer[1] += 1\n",
    "        \n",
    "        for val in seq:\n",
    "            if val not in pointer[0]:\n",
    "                pointer[0][val] = [{}, 0]\n",
    "\n",
    "            pointer = pointer[0][val]\n",
    "            pointer[1] += 1\n",
    "\n",
    "    def find(self, seq):\n",
    "        if not seq:\n",
    "            return 0\n",
    "\n",
    "        pointer = self.data\n",
    "\n",
    "        for val in seq:\n",
    "            if val not in pointer[0]:\n",
    "                return 0\n",
    "            \n",
    "            pointer = pointer[0][val]\n",
    "\n",
    "        return pointer[1]"
   ]
  },
  {
   "cell_type": "code",
   "execution_count": 4,
   "metadata": {},
   "outputs": [
    {
     "name": "stdout",
     "output_type": "stream",
     "text": [
      "2\n",
      "2\n",
      "1\n"
     ]
    }
   ],
   "source": [
    "trie_root = Trie()\n",
    "\n",
    "trie_root.add(\"hack\")\n",
    "trie_root.add(\"hackerrank\")\n",
    "\n",
    "print(trie_root.find(\"hack\"))\n",
    "print(trie_root.find(\"ha\"))\n",
    "print(trie_root.find(\"hacker\"))"
   ]
  },
  {
   "cell_type": "code",
   "execution_count": 5,
   "metadata": {},
   "outputs": [],
   "source": [
    "# Get from https://louisabraham.github.io/notebooks/suffix_arrays.html\n",
    "from itertools import zip_longest, islice\n",
    "\n",
    "\n",
    "def to_int_keys_best(l):\n",
    "    \"\"\"\n",
    "    l: iterable of keys\n",
    "    returns: a list with integer keys\n",
    "    \"\"\"\n",
    "    seen = set()\n",
    "\n",
    "    ls = []\n",
    "    for e in l:\n",
    "        if not e in seen:\n",
    "            ls.append(e)\n",
    "\n",
    "        seen.add(e)\n",
    "\n",
    "    ls.sort()\n",
    "    index = {v: i for i, v in enumerate(ls)}\n",
    "    return [index[v] for v in l]\n",
    "\n",
    "\n",
    "def suffix_matrix_best(s):\n",
    "    \"\"\"\n",
    "    suffix matrix of s\n",
    "    O(n * log(n)^2)\n",
    "    \"\"\"\n",
    "    n = len(s)\n",
    "    k = 1\n",
    "    line = to_int_keys_best(s)\n",
    "    ans = [line]\n",
    "    while max(line) < n - 1:\n",
    "        line = to_int_keys_best(\n",
    "            [a * (n + 1) + b + 1\n",
    "             for (a, b) in\n",
    "             zip_longest(line, islice(line, k, None),\n",
    "                         fillvalue=-1)])\n",
    "        ans.append(line)\n",
    "        k <<= 1\n",
    "    return ans\n",
    "\n",
    "\n",
    "def suffix_array_best(s):\n",
    "    \"\"\"\n",
    "    suffix array of s\n",
    "    O(n * log(n)^2)\n",
    "    \"\"\"\n",
    "    n = len(s)\n",
    "    k = 1\n",
    "    line = to_int_keys_best(s)\n",
    "    while max(line) < n - 1:\n",
    "        line = to_int_keys_best(\n",
    "            [a * (n + 1) + b + 1\n",
    "             for (a, b) in\n",
    "             zip_longest(line, islice(line, k, None),\n",
    "                         fillvalue=-1)])\n",
    "        k <<= 1\n",
    "    return line\n",
    "\n",
    "\n",
    "def lcp(sm, i, j):\n",
    "    \"\"\"\n",
    "    longest common prefix\n",
    "    O(log(n))\n",
    "\n",
    "    sm: suffix matrix\n",
    "    \"\"\"\n",
    "    n = len(sm[-1])\n",
    "    if i == j:\n",
    "        return n - i\n",
    "    k = 1 << (len(sm) - 2)\n",
    "    ans = 0\n",
    "    for line in sm[-2::-1]:\n",
    "        if i >= n or j >= n:\n",
    "            break\n",
    "        if line[i] == line[j]:\n",
    "            ans ^= k\n",
    "            i += k\n",
    "            j += k\n",
    "        k >>= 1\n",
    "    return ans"
   ]
  },
  {
   "cell_type": "code",
   "execution_count": 6,
   "metadata": {},
   "outputs": [
    {
     "name": "stdout",
     "output_type": "stream",
     "text": [
      "[8, 2, 4, 6, 3, 7, 1, 0, 5]\n",
      "[[5, 1, 2, 3, 1, 4, 1, 0, 3], [8, 2, 4, 6, 3, 7, 1, 0, 5]]\n"
     ]
    }
   ],
   "source": [
    "print(suffix_array_best('thinhphan'))\n",
    "print(suffix_matrix_best('thinhphan'))"
   ]
  }
 ],
 "metadata": {
  "kernelspec": {
   "display_name": "Python 3",
   "language": "python",
   "name": "python3"
  },
  "language_info": {
   "codemirror_mode": {
    "name": "ipython",
    "version": 3
   },
   "file_extension": ".py",
   "mimetype": "text/x-python",
   "name": "python",
   "nbconvert_exporter": "python",
   "pygments_lexer": "ipython3",
   "version": "3.8.5"
  }
 },
 "nbformat": 4,
 "nbformat_minor": 4
}
