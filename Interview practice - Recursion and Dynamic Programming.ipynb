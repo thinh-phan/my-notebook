{
 "cells": [
  {
   "cell_type": "markdown",
   "metadata": {},
   "source": [
    "8.1 Triple Step"
   ]
  },
  {
   "cell_type": "code",
   "execution_count": 1,
   "metadata": {},
   "outputs": [],
   "source": [
    "def triple_step(n):\n",
    "    if n <= 0:\n",
    "        raise ValueError(\"Must be bigger than 0\")\n",
    "\n",
    "    if n == 1:\n",
    "        return 1\n",
    "    \n",
    "    # {1, 1}, {2}\n",
    "    if n == 2:\n",
    "        return 2\n",
    "    \n",
    "    # {1, 1, 1}, {1, 2}, {2, 1}, 3\n",
    "    if n == 3:\n",
    "        return 4\n",
    "    \n",
    "    return triple_step(n - 1) + triple_step(n - 2) + triple_step(n - 3)"
   ]
  },
  {
   "cell_type": "code",
   "execution_count": 2,
   "metadata": {},
   "outputs": [],
   "source": [
    "triple_step(4)"
   ]
  },
  {
   "cell_type": "markdown",
   "metadata": {},
   "source": [
    "8.2 Robot in a Grid"
   ]
  },
  {
   "cell_type": "code",
   "execution_count": 3,
   "metadata": {},
   "outputs": [],
   "source": [
    "from typing import NamedTuple\n",
    "\n",
    "\n",
    "class Direction(NamedTuple):\n",
    "    dx: int\n",
    "    dy: int"
   ]
  },
  {
   "cell_type": "code",
   "execution_count": 4,
   "metadata": {},
   "outputs": [],
   "source": [
    "RIGHT = Direction(0, 1)\n",
    "DOWN = Direction(1, 0)"
   ]
  },
  {
   "cell_type": "code",
   "execution_count": 5,
   "metadata": {},
   "outputs": [],
   "source": [
    "from collections import deque\n",
    "\n",
    "\n",
    "class Board:\n",
    "    def __init__(self, blocks):\n",
    "        self.blocks = blocks\n",
    "        self.trace = [[None for column in row] for row in blocks]\n",
    "    \n",
    "    def get_start(self):\n",
    "        return 0, 0\n",
    "    \n",
    "    def get_destination(self):\n",
    "        return len(self.blocks) - 1, len(self.blocks[0]) - 1\n",
    "    \n",
    "    def is_start(self, i, j):\n",
    "        return (i, j) == self.get_start()\n",
    "    \n",
    "    def is_destination(self, i, j):\n",
    "        return (i, j) == self.get_destination()\n",
    "    \n",
    "    def is_blocked(self, i, j):\n",
    "        return self.blocks[i][j] == 1\n",
    "    \n",
    "    def is_in_boards(self, i, j):\n",
    "        return 0 <= i < len(self.blocks) and 0 <= j < len(self.blocks[0])\n",
    "    \n",
    "    def neighbors(self, i, j):\n",
    "        if self.is_in_boards(i + RIGHT.dx, j + RIGHT.dy):\n",
    "            yield (i + RIGHT.dx, j + RIGHT.dy)\n",
    "        \n",
    "        if self.is_in_boards(i + DOWN.dx, j + DOWN.dy):\n",
    "            yield (i + DOWN.dx, j + DOWN.dy)\n",
    "    \n",
    "    def trace_path(self, newI, newJ, i, j):\n",
    "        self.trace[newI][newJ] = (i, j)\n",
    "\n",
    "    def get_paths(self):\n",
    "        stack = deque()\n",
    "        i, j = self.get_destination()\n",
    "        \n",
    "        stack.appendleft((i, j))\n",
    "\n",
    "        while not self.is_start(i, j):\n",
    "            i, j = self.trace[i][j]\n",
    "            stack.appendleft((i, j))\n",
    "        \n",
    "        return list(stack)"
   ]
  },
  {
   "cell_type": "code",
   "execution_count": 6,
   "metadata": {},
   "outputs": [],
   "source": [
    "from queue import Queue\n",
    "\n",
    "\n",
    "class Solver:\n",
    "    def __init__(self, board):\n",
    "        self.board = board\n",
    "    \n",
    "    def solve(self):\n",
    "        queue = Queue()\n",
    "        visited = set()\n",
    "        is_arrived = False\n",
    "        \n",
    "        queue.put(self.board.get_start())\n",
    "        \n",
    "        while not queue.empty():\n",
    "            i, j = queue.get()\n",
    "            \n",
    "            if self.board.is_destination(i, j):\n",
    "                is_arrived = True\n",
    "                break\n",
    "            \n",
    "            for newI, newJ in self.board.neighbors(i, j):\n",
    "                if (newI, newJ) not in visited and not self.board.is_blocked(newI, newJ):\n",
    "                    visited.add((newI, newJ))\n",
    "                    queue.put((newI, newJ))\n",
    "                    self.board.trace_path(newI, newJ, i, j)\n",
    "        \n",
    "        if not is_arrived:\n",
    "            return None\n",
    "\n",
    "        return self.board.get_paths()"
   ]
  },
  {
   "cell_type": "code",
   "execution_count": 7,
   "metadata": {},
   "outputs": [],
   "source": [
    "class SolverRec:\n",
    "    def __init__(self, board):\n",
    "        self.board = board\n",
    "    \n",
    "    def solve(self):\n",
    "        hash_table = {'result': None}\n",
    "\n",
    "        def recur(result, i, j):\n",
    "            if self.board.is_destination(i, j):\n",
    "                result += [(i, j)]\n",
    "                hash_table['result'] = result\n",
    "                raise Error()\n",
    "            else:\n",
    "                for newI, newJ in self.board.neighbors(i, j):\n",
    "                    if not self.board.is_blocked(newI, newJ):\n",
    "                        recur(result + [(i, j)], newI, newJ)\n",
    "\n",
    "        i, j = self.board.get_start()\n",
    "\n",
    "        try:\n",
    "            recur([], i, j)\n",
    "        except:\n",
    "            pass\n",
    "        \n",
    "        return hash_table['result']"
   ]
  },
  {
   "cell_type": "code",
   "execution_count": 8,
   "metadata": {},
   "outputs": [
    {
     "name": "stdout",
     "output_type": "stream",
     "text": [
      "[(0, 0), (0, 1), (0, 2), (1, 2), (2, 2), (3, 2), (3, 3), (3, 4)]\n",
      "[(0, 0), (0, 1), (0, 2), (1, 2), (2, 2), (3, 2), (3, 3), (3, 4)]\n"
     ]
    }
   ],
   "source": [
    "solver = Solver(\n",
    "    Board([\n",
    "        [0, 0, 0, 0, 0],\n",
    "        [0, 1, 0, 1, 1],\n",
    "        [1, 0, 0, 1, 0],\n",
    "        [1, 0, 0, 0, 0]\n",
    "    ])\n",
    ")\n",
    "\n",
    "print(solver.solve())\n",
    "\n",
    "solver = SolverRec(\n",
    "    Board([\n",
    "        [0, 0, 0, 0, 0],\n",
    "        [0, 1, 0, 1, 1],\n",
    "        [1, 0, 0, 1, 0],\n",
    "        [1, 0, 0, 0, 0]\n",
    "    ])\n",
    ")\n",
    "\n",
    "print(solver.solve())"
   ]
  },
  {
   "cell_type": "markdown",
   "metadata": {},
   "source": [
    "8.3 Magic Index"
   ]
  },
  {
   "cell_type": "code",
   "execution_count": 9,
   "metadata": {},
   "outputs": [],
   "source": [
    "def find_magic_index(ls):\n",
    "    def recur(left, mid, right):\n",
    "        if left <= right:\n",
    "            if ls[mid] == mid:\n",
    "                return ls[mid]\n",
    "            elif ls[mid] > mid:\n",
    "                return recur(left, left + (mid - 1 - left) // 2, mid - 1)\n",
    "            else:\n",
    "                return recur(mid + 1, mid + 1 + (right - mid - 1) // 2, right)\n",
    "\n",
    "    \n",
    "    length = len(ls)\n",
    "    return recur(0, (length - 1) // 2, length - 1)"
   ]
  },
  {
   "cell_type": "code",
   "execution_count": 10,
   "metadata": {},
   "outputs": [
    {
     "data": {
      "text/plain": [
       "2"
      ]
     },
     "execution_count": 10,
     "metadata": {},
     "output_type": "execute_result"
    }
   ],
   "source": [
    "find_magic_index([-2, 0, 2, 4, 8, 10, 16, 18])"
   ]
  },
  {
   "cell_type": "markdown",
   "metadata": {},
   "source": [
    "8.4 Power Set"
   ]
  },
  {
   "cell_type": "code",
   "execution_count": 11,
   "metadata": {},
   "outputs": [],
   "source": [
    "def power_set(elements):\n",
    "    def recur(step):\n",
    "        if step == 0:\n",
    "            yield frozenset()\n",
    "        else:\n",
    "            for current_set in recur(step - 1):\n",
    "                yield current_set\n",
    "                yield current_set | frozenset([elements[step - 1]])\n",
    "\n",
    "    return recur(len(elements))"
   ]
  },
  {
   "cell_type": "code",
   "execution_count": 12,
   "metadata": {},
   "outputs": [
    {
     "data": {
      "text/plain": [
       "[frozenset(),\n",
       " frozenset({3}),\n",
       " frozenset({2}),\n",
       " frozenset({2, 3}),\n",
       " frozenset({1}),\n",
       " frozenset({1, 3}),\n",
       " frozenset({1, 2}),\n",
       " frozenset({1, 2, 3})]"
      ]
     },
     "execution_count": 12,
     "metadata": {},
     "output_type": "execute_result"
    }
   ],
   "source": [
    "list(power_set([1, 2, 3]))"
   ]
  },
  {
   "cell_type": "markdown",
   "metadata": {},
   "source": [
    "8.5 Recursive Multiply"
   ]
  },
  {
   "cell_type": "code",
   "execution_count": 13,
   "metadata": {},
   "outputs": [],
   "source": [
    "def recursive_multiply(a, b):\n",
    "    def recur(a, b):\n",
    "        if a == 0 or b == 0:\n",
    "            return 0\n",
    "        \n",
    "        if a < b:\n",
    "            return b + recur(a - 1, b)\n",
    "        else:\n",
    "            return a + recur(a, b - 1)\n",
    "    \n",
    "    sign = -1 if (a > 0 and b < 0) or (a < 0 and b > 0) else 1\n",
    "    return sign * recur(abs(a), abs(b))"
   ]
  },
  {
   "cell_type": "code",
   "execution_count": 14,
   "metadata": {},
   "outputs": [
    {
     "data": {
      "text/plain": [
       "400"
      ]
     },
     "execution_count": 14,
     "metadata": {},
     "output_type": "execute_result"
    }
   ],
   "source": [
    "recursive_multiply(4, 100)"
   ]
  },
  {
   "cell_type": "markdown",
   "metadata": {},
   "source": [
    "8.6 Towers of Hanoi"
   ]
  },
  {
   "cell_type": "code",
   "execution_count": 15,
   "metadata": {},
   "outputs": [],
   "source": [
    "def towers_of_hanoi(source, auxiliary, target):\n",
    "    def recur(n, source, auxiliary, target):\n",
    "        if n > 0:\n",
    "            recur(n - 1, source, target, auxiliary)\n",
    "            \n",
    "            if source[1]:\n",
    "                disk = source[1].pop()\n",
    "                target[1].append(disk)\n",
    "                \n",
    "                print(\"Move {} from {}: {} to {}: {}\".format(disk, source[0], source[1], target[0], target[1]))\n",
    "            \n",
    "            recur(n - 1, auxiliary, source, target)\n",
    "    \n",
    "    return recur(len(source[1]), source, target, auxiliary)"
   ]
  },
  {
   "cell_type": "code",
   "execution_count": 16,
   "metadata": {},
   "outputs": [
    {
     "name": "stdout",
     "output_type": "stream",
     "text": [
      "Move 1 from Source: [4, 3, 2] to Target: [1]\n",
      "Move 2 from Source: [4, 3] to Auxiliary: [2]\n",
      "Move 1 from Target: [] to Auxiliary: [2, 1]\n",
      "Move 3 from Source: [4] to Target: [3]\n",
      "Move 1 from Auxiliary: [2] to Source: [4, 1]\n",
      "Move 2 from Auxiliary: [] to Target: [3, 2]\n",
      "Move 1 from Source: [4] to Target: [3, 2, 1]\n",
      "Move 4 from Source: [] to Auxiliary: [4]\n",
      "Move 1 from Target: [3, 2] to Auxiliary: [4, 1]\n",
      "Move 2 from Target: [3] to Source: [2]\n",
      "Move 1 from Auxiliary: [4] to Source: [2, 1]\n",
      "Move 3 from Target: [] to Auxiliary: [4, 3]\n",
      "Move 1 from Source: [2] to Target: [1]\n",
      "Move 2 from Source: [] to Auxiliary: [4, 3, 2]\n",
      "Move 1 from Target: [] to Auxiliary: [4, 3, 2, 1]\n"
     ]
    }
   ],
   "source": [
    "source = (\"Source\", [4,3,2,1])\n",
    "target = (\"Target\", [])\n",
    "auxiliary = (\"Auxiliary\", [])\n",
    "\n",
    "towers_of_hanoi(source, auxiliary, target)"
   ]
  },
  {
   "cell_type": "markdown",
   "metadata": {},
   "source": [
    "8.7 Permutations without Dups"
   ]
  },
  {
   "cell_type": "code",
   "execution_count": 17,
   "metadata": {},
   "outputs": [],
   "source": [
    "def permutations(ls):\n",
    "    def recur(ls, result):\n",
    "        if not ls:\n",
    "            yield result\n",
    "        else:\n",
    "            for index in range(len(ls)):\n",
    "                yield from recur(ls[:index] + ls[index + 1:], result + [ls[index]])\n",
    "    return recur(ls, [])"
   ]
  },
  {
   "cell_type": "code",
   "execution_count": 18,
   "metadata": {},
   "outputs": [
    {
     "data": {
      "text/plain": [
       "[['a', 'b', 'c'],\n",
       " ['a', 'c', 'b'],\n",
       " ['b', 'a', 'c'],\n",
       " ['b', 'c', 'a'],\n",
       " ['c', 'a', 'b'],\n",
       " ['c', 'b', 'a']]"
      ]
     },
     "execution_count": 18,
     "metadata": {},
     "output_type": "execute_result"
    }
   ],
   "source": [
    "list(permutations(['a', 'b', 'c']))"
   ]
  },
  {
   "cell_type": "markdown",
   "metadata": {},
   "source": [
    "8.8 Permutations with Dups"
   ]
  },
  {
   "cell_type": "code",
   "execution_count": 19,
   "metadata": {},
   "outputs": [],
   "source": [
    "def permutations_with_dups(ls):\n",
    "    result = set()\n",
    "\n",
    "    def recur(ls, acc):\n",
    "        if not ls:\n",
    "            result.add(acc)\n",
    "        else:\n",
    "            for index in range(len(ls)):\n",
    "                recur(ls[:index] + ls[index + 1:], acc + (ls[index],))\n",
    "\n",
    "    recur(ls, tuple())\n",
    "    \n",
    "    return result"
   ]
  },
  {
   "cell_type": "code",
   "execution_count": 20,
   "metadata": {},
   "outputs": [
    {
     "data": {
      "text/plain": [
       "{('a', 'a', 'c'), ('a', 'c', 'a'), ('c', 'a', 'a')}"
      ]
     },
     "execution_count": 20,
     "metadata": {},
     "output_type": "execute_result"
    }
   ],
   "source": [
    "permutations_with_dups(['a', 'a', 'c'])"
   ]
  },
  {
   "cell_type": "markdown",
   "metadata": {},
   "source": [
    "8.9 Parens"
   ]
  },
  {
   "cell_type": "code",
   "execution_count": 21,
   "metadata": {},
   "outputs": [],
   "source": [
    "def parens(n):\n",
    "    if n < 1:\n",
    "        raise ValueError()\n",
    "    \n",
    "    def recur(acc):\n",
    "        if acc == 1:\n",
    "            yield \"()\"\n",
    "        else:\n",
    "            for paren in recur(acc - 1):\n",
    "                yield \"(){}\".format(paren)\n",
    "                yield \"{}()\".format(paren)\n",
    "                yield \"({})\".format(paren)\n",
    "                \n",
    "    # can we not use set in this case?\n",
    "    return set(recur(n))"
   ]
  },
  {
   "cell_type": "code",
   "execution_count": 22,
   "metadata": {},
   "outputs": [],
   "source": [
    "def parens_left_right(n):\n",
    "    if n < 1:\n",
    "        raise ValueError()\n",
    "    \n",
    "    num = n * 2\n",
    "    result = [None] * num\n",
    "    \n",
    "    def recur(left, right):\n",
    "        if left == 0 and right == 0:\n",
    "            print(''.join(result))\n",
    "            return\n",
    "\n",
    "        pos = num - (left + right)\n",
    "        \n",
    "        if left > 0:\n",
    "            result[pos] = '('\n",
    "            recur(left - 1, right)\n",
    "        \n",
    "        if left < right:\n",
    "            result[pos] = ')'\n",
    "            recur(left, right - 1)\n",
    "    \n",
    "    recur(n, n)"
   ]
  },
  {
   "cell_type": "code",
   "execution_count": 23,
   "metadata": {},
   "outputs": [
    {
     "data": {
      "text/plain": [
       "{'((()))', '(()())', '(())()', '()(())', '()()()'}"
      ]
     },
     "execution_count": 23,
     "metadata": {},
     "output_type": "execute_result"
    }
   ],
   "source": [
    "parens(3)"
   ]
  },
  {
   "cell_type": "code",
   "execution_count": 24,
   "metadata": {},
   "outputs": [
    {
     "name": "stdout",
     "output_type": "stream",
     "text": [
      "((()))\n",
      "(()())\n",
      "(())()\n",
      "()(())\n",
      "()()()\n"
     ]
    }
   ],
   "source": [
    "parens_left_right(3)"
   ]
  },
  {
   "cell_type": "code",
   "execution_count": 25,
   "metadata": {},
   "outputs": [],
   "source": [
    "def floodFill(image, sr, sc, newColor):\n",
    "    R, C = len(image), len(image[0])\n",
    "    color = image[sr][sc]\n",
    "    if color == newColor: return image\n",
    "    def dfs(r, c):\n",
    "        if image[r][c] == color:\n",
    "            image[r][c] = newColor\n",
    "            if r >= 1: dfs(r-1, c)\n",
    "            if r+1 < R: dfs(r+1, c)\n",
    "            if c >= 1: dfs(r, c-1)\n",
    "            if c+1 < C: dfs(r, c+1)\n",
    "\n",
    "    dfs(sr, sc)\n",
    "    return image"
   ]
  },
  {
   "cell_type": "code",
   "execution_count": 26,
   "metadata": {},
   "outputs": [],
   "source": [
    "image = [[1,1,1],[1,1,0],[1,0,1]]"
   ]
  },
  {
   "cell_type": "code",
   "execution_count": 27,
   "metadata": {},
   "outputs": [
    {
     "data": {
      "text/plain": [
       "[[2, 2, 2], [2, 2, 0], [2, 0, 1]]"
      ]
     },
     "execution_count": 27,
     "metadata": {},
     "output_type": "execute_result"
    }
   ],
   "source": [
    "floodFill(image, sr=1, sc=1, newColor=2)"
   ]
  },
  {
   "cell_type": "markdown",
   "metadata": {},
   "source": [
    "8.11 Coins"
   ]
  },
  {
   "cell_type": "code",
   "execution_count": 28,
   "metadata": {},
   "outputs": [],
   "source": [
    "def coins(ls, n):\n",
    "    def recur(ls, n, count):\n",
    "        if n < 0:\n",
    "            return count\n",
    "        \n",
    "        if not ls:\n",
    "            return count + 1 if n == 0 else count\n",
    "        \n",
    "        return recur(ls[1:], n, count) + recur(ls, n - ls[0], count)\n",
    "    \n",
    "    return recur(ls, n, 0)"
   ]
  },
  {
   "cell_type": "code",
   "execution_count": 29,
   "metadata": {},
   "outputs": [],
   "source": [
    "def coins_dp(ls, n):\n",
    "    dp = [[1 if column == 0 else 0 for column in range(n + 1)] for row in range(len(ls) + 1)]\n",
    "    \n",
    "    for index, coin in enumerate(ls):\n",
    "        for money in range(n + 1):\n",
    "            dp[index + 1][money] = dp[index][money]\n",
    "            \n",
    "            if money - coin >= 0:\n",
    "                dp[index + 1][money] += dp[index + 1][money - coin]\n",
    "    \n",
    "    return dp[len(ls)][n]"
   ]
  },
  {
   "cell_type": "code",
   "execution_count": 30,
   "metadata": {},
   "outputs": [
    {
     "name": "stdout",
     "output_type": "stream",
     "text": [
      "2\n",
      "2\n"
     ]
    }
   ],
   "source": [
    "print(coins([25, 10, 5, 1], 6))\n",
    "print(coins_dp([25, 10, 5, 1], 6))"
   ]
  },
  {
   "cell_type": "markdown",
   "metadata": {},
   "source": [
    "8.12 Eight Queens"
   ]
  },
  {
   "cell_type": "code",
   "execution_count": 31,
   "metadata": {},
   "outputs": [],
   "source": [
    "from collections import deque\n",
    "\n",
    "\n",
    "def is_safe(column, qs):\n",
    "    row = len(qs)\n",
    "    queens_with_rows = zip(range(row - 1, -1, -1), qs)\n",
    "    \n",
    "    return all([column != c and abs(column - c) != abs(row - r) for r, c in queens_with_rows])\n",
    "    \n",
    "def queens(n):\n",
    "    def place_queens(k):\n",
    "        if k == 0:\n",
    "            yield []\n",
    "        else:\n",
    "            for qs in place_queens(k - 1):\n",
    "                for column in range(n):\n",
    "                    if is_safe(column, qs):\n",
    "                        yield [column] + qs\n",
    "\n",
    "    return place_queens(n)"
   ]
  },
  {
   "cell_type": "code",
   "execution_count": 32,
   "metadata": {},
   "outputs": [
    {
     "name": "stdout",
     "output_type": "stream",
     "text": [
      "o o x o \n",
      "x o o o \n",
      "o o o x \n",
      "o x o o \n",
      "\n",
      "o x o o \n",
      "o o o x \n",
      "x o o o \n",
      "o o x o \n",
      "\n"
     ]
    }
   ],
   "source": [
    "for result in queens(4):\n",
    "    for j in result:\n",
    "        for k in range(4):\n",
    "            if k == j:\n",
    "                print('x', end=' ')\n",
    "            else:\n",
    "                print('o', end=' ')\n",
    "        print()\n",
    "    print()"
   ]
  },
  {
   "cell_type": "markdown",
   "metadata": {},
   "source": [
    "8.13 Stack of Boxes"
   ]
  },
  {
   "cell_type": "code",
   "execution_count": 33,
   "metadata": {},
   "outputs": [],
   "source": [
    "def longest_increasing_seqs(ls):\n",
    "    length = len(ls)\n",
    "    d = [0] * length\n",
    "    trace = list(range(len(ls)))\n",
    "    \n",
    "    for i in range(length - 1, -1, -1):\n",
    "        best_choice = i\n",
    "\n",
    "        for j in range(i + 1, length):\n",
    "            if d[best_choice] < d[j] and ls[i] <= ls[j]:\n",
    "                best_choice = j\n",
    "        \n",
    "        d[i] = d[best_choice] + 1\n",
    "        trace[i] = best_choice\n",
    "\n",
    "    pointer = d.index(max(d))\n",
    "    path = [ls[pointer]]\n",
    "    \n",
    "    while pointer != trace[pointer]:\n",
    "        pointer = trace[pointer]\n",
    "        path.append(ls[pointer])\n",
    "\n",
    "    return path"
   ]
  },
  {
   "cell_type": "code",
   "execution_count": 34,
   "metadata": {},
   "outputs": [
    {
     "data": {
      "text/plain": [
       "[9, 10, 22, 33, 50, 60, 80]"
      ]
     },
     "execution_count": 34,
     "metadata": {},
     "output_type": "execute_result"
    }
   ],
   "source": [
    "longest_increasing_seqs([12, 9, 10, 22, 9, 33, 21, 50, 41, 60, 80, 34])"
   ]
  },
  {
   "cell_type": "code",
   "execution_count": 35,
   "metadata": {},
   "outputs": [
    {
     "data": {
      "text/plain": [
       "[1, 3, 3, 4, 8, 9]"
      ]
     },
     "execution_count": 35,
     "metadata": {},
     "output_type": "execute_result"
    }
   ],
   "source": [
    "longest_increasing_seqs([1, 3, 2, 3, 4, 8, 7, 9])"
   ]
  },
  {
   "cell_type": "markdown",
   "metadata": {},
   "source": [
    "8.14 Boolean Evaluation"
   ]
  },
  {
   "cell_type": "code",
   "execution_count": 36,
   "metadata": {},
   "outputs": [],
   "source": [
    "def parseBoolExpr(expression: str) -> bool:\n",
    "    def parse(e: str, lo: int, hi: int) -> bool:\n",
    "        if hi - lo == 1: # base case\n",
    "            return e[lo] == 't'               \n",
    "        ans = e[lo] == '&' # only when the first char is '&', ans assigned True.\n",
    "        level, start = 0, lo + 2 # e[lo + 1] must be '(', so start from lo + 2 to delimit sub-expression.\n",
    "        for i in range(lo + 2, hi):\n",
    "            if level == 0  and e[i] in [',', ')']: # found a sub-expression.\n",
    "                cur = parse(e, start, i) # recurse to sub-problem.\n",
    "                start = i + 1 # start point of next sub-expression.\n",
    "                if e[lo] == '&':\n",
    "                    ans &= cur\n",
    "                elif e[lo] == '|':\n",
    "                    ans |= cur\n",
    "                else: # e[lo] is '!'.\n",
    "                    ans = not cur\n",
    "            if e[i] == '(':\n",
    "                level = level + 1\n",
    "            elif e[i] == ')':\n",
    "                level = level - 1\n",
    "        return ans;        \n",
    "\n",
    "    return parse(expression, 0, len(expression))\n",
    "\n",
    "def parseBoolExpr1(expression: str) -> bool:\n",
    "    stack = []\n",
    "    for c in expression:\n",
    "        if c == ')':\n",
    "            seen = set()\n",
    "            while stack[-1] != '(':\n",
    "                seen.add(stack.pop())\n",
    "            stack.pop()\n",
    "            operator = stack.pop()\n",
    "            stack.append(all(seen) if operator == '&' else any(seen) if operator == '|' else not seen.pop())\n",
    "        elif c != ',':\n",
    "            stack.append(True if c == 't' else False if c == 'f' else c)\n",
    "    return stack.pop()"
   ]
  },
  {
   "cell_type": "code",
   "execution_count": 37,
   "metadata": {},
   "outputs": [
    {
     "name": "stdout",
     "output_type": "stream",
     "text": [
      "True\n",
      "True\n"
     ]
    }
   ],
   "source": [
    "expression = \"!(f)\"\n",
    "print(parseBoolExpr(expression))\n",
    "print(parseBoolExpr1(expression))"
   ]
  }
 ],
 "metadata": {
  "kernelspec": {
   "display_name": "Python 3",
   "language": "python",
   "name": "python3"
  },
  "language_info": {
   "codemirror_mode": {
    "name": "ipython",
    "version": 3
   },
   "file_extension": ".py",
   "mimetype": "text/x-python",
   "name": "python",
   "nbconvert_exporter": "python",
   "pygments_lexer": "ipython3",
   "version": "3.8.5"
  }
 },
 "nbformat": 4,
 "nbformat_minor": 4
}
