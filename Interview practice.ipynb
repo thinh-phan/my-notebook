{
 "cells": [
  {
   "cell_type": "code",
   "execution_count": 1,
   "metadata": {},
   "outputs": [],
   "source": [
    "def merge(array, aux, low, mid, high):\n",
    "    for k in range(low, high + 1):\n",
    "        aux[k] = array[k]\n",
    "\n",
    "    i = low\n",
    "    j = mid + 1\n",
    "\n",
    "    for k in range(low, high + 1):\n",
    "        if i > mid:\n",
    "            array[k] = aux[j]\n",
    "            j += 1\n",
    "        elif j > high:\n",
    "            array[k] = aux[i]\n",
    "            i += 1\n",
    "        elif aux[i] < aux[j]:\n",
    "            array[k] = aux[i]\n",
    "            i += 1\n",
    "        else:\n",
    "            array[k] = aux[j]\n",
    "            j += 1\n",
    "\n",
    "\n",
    "def merge_sort(array):\n",
    "    def sort(array, aux, low, high):\n",
    "        if low < high:\n",
    "            mid = low + (high - low) // 2\n",
    "            \n",
    "            sort(array, aux, low, mid)\n",
    "            sort(array, aux, mid + 1, high)\n",
    "            merge(array, aux, low, mid, high)\n",
    "    \n",
    "    sort(array, array[:], 0, len(array) - 1)\n",
    "\n",
    "\n",
    "def bu_merge_sort(array):\n",
    "    aux = array[:]\n",
    "    length = len(array)\n",
    "    size = 1\n",
    "    \n",
    "    while size < length:\n",
    "        low = 0\n",
    "        \n",
    "        while low < length - size:\n",
    "            mid = low + size - 1\n",
    "            high = min([low + 2 * size - 1, length - 1])\n",
    "            merge(array, aux, low, mid, high)\n",
    "            \n",
    "            low += 2 * size\n",
    "            \n",
    "        size *= 2"
   ]
  },
  {
   "cell_type": "code",
   "execution_count": 2,
   "metadata": {},
   "outputs": [
    {
     "name": "stdout",
     "output_type": "stream",
     "text": [
      "23.2 µs ± 270 ns per loop (mean ± std. dev. of 7 runs, 10000 loops each)\n",
      "24.2 µs ± 285 ns per loop (mean ± std. dev. of 7 runs, 10000 loops each)\n"
     ]
    }
   ],
   "source": [
    "a = [5, 3, 2, 4, 3, 8, 9, 2, 10, 6, 7, 1]\n",
    "b = [5, 3, 2, 4, 3, 8, 9, 2, 10, 6, 7, 1]\n",
    "%timeit merge_sort(a)\n",
    "%timeit bu_merge_sort(b)"
   ]
  },
  {
   "cell_type": "code",
   "execution_count": 3,
   "metadata": {},
   "outputs": [
    {
     "name": "stdout",
     "output_type": "stream",
     "text": [
      "[[5, 3, 2, 4, 3, 8, 9, 2, 10, 6, 7, 1]]\n"
     ]
    }
   ],
   "source": [
    "def top_down_merge_sort(nums):\n",
    "    # bottom cases: empty or list of a single element.\n",
    "    if len(nums) <= 1:\n",
    "        return nums\n",
    "\n",
    "    pivot = int(len(nums) / 2)\n",
    "    left_list = merge_sort(nums[0:pivot])\n",
    "    right_list = merge_sort(nums[pivot:])\n",
    "    return bar(left_list, right_list)\n",
    "\n",
    "\n",
    "def bar(left_list, right_list):\n",
    "    left_cursor = right_cursor = 0\n",
    "    ret = []\n",
    "    while left_cursor < len(left_list) and right_cursor < len(right_list):\n",
    "        if left_list[left_cursor] < right_list[right_cursor]:\n",
    "            ret.append(left_list[left_cursor])\n",
    "            left_cursor += 1\n",
    "        else:\n",
    "            ret.append(right_list[right_cursor])\n",
    "            right_cursor += 1\n",
    "    \n",
    "    # append what is remained in either of the lists\n",
    "    ret.extend(left_list[left_cursor:])\n",
    "    ret.extend(right_list[right_cursor:])\n",
    "    \n",
    "    return ret\n",
    "\n",
    "print(top_down_merge_sort([[5, 3, 2, 4, 3, 8, 9, 2, 10, 6, 7, 1]]))"
   ]
  },
  {
   "cell_type": "code",
   "execution_count": 4,
   "metadata": {},
   "outputs": [
    {
     "name": "stdout",
     "output_type": "stream",
     "text": [
      "[[5, 3, 2, 4, 3, 8, 9, 2, 10, 6, 7, 1]]\n"
     ]
    }
   ],
   "source": [
    "def bottom_up_merge_sort(nums):\n",
    "    if not nums or len(nums) == 1:\n",
    "        return nums\n",
    "    res = [[a] for a in nums]\n",
    "    while len(res) > 1:\n",
    "        if len(res) % 2 == 0:\n",
    "            res = [foo(res[i], res[i+1]) for i in range(0, len(res) - 1, 2)]\n",
    "        else:\n",
    "            last = res[-1]\n",
    "            res = res[:-1]\n",
    "            res = [foo(res[i], res[i+1]) for i in range(0, len(res) - 1, 2)]\n",
    "            res.append(last)\n",
    "    return res[0]\n",
    "\n",
    "\n",
    "def foo(left_list, right_list):\n",
    "    left_cursor = right_cursor = 0\n",
    "    ret = []\n",
    "    while left_cursor < len(left_list) and right_cursor < len(right_list):\n",
    "        if left_list[left_cursor] < right_list[right_cursor]:\n",
    "            ret.append(left_list[left_cursor])\n",
    "            left_cursor += 1\n",
    "        else:\n",
    "            ret.append(right_list[right_cursor])\n",
    "            right_cursor += 1\n",
    "\n",
    "    # append what is remained in either of the lists\n",
    "    ret.extend(left_list[left_cursor:])\n",
    "    ret.extend(right_list[right_cursor:])\n",
    "\n",
    "    return ret\n",
    "\n",
    "print(bottom_up_merge_sort([[5, 3, 2, 4, 3, 8, 9, 2, 10, 6, 7, 1]]))"
   ]
  }
 ],
 "metadata": {
  "kernelspec": {
   "display_name": "Python 3",
   "language": "python",
   "name": "python3"
  },
  "language_info": {
   "codemirror_mode": {
    "name": "ipython",
    "version": 3
   },
   "file_extension": ".py",
   "mimetype": "text/x-python",
   "name": "python",
   "nbconvert_exporter": "python",
   "pygments_lexer": "ipython3",
   "version": "3.8.5"
  }
 },
 "nbformat": 4,
 "nbformat_minor": 4
}
