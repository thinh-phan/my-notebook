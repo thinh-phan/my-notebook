{
 "cells": [
  {
   "cell_type": "code",
   "execution_count": 1,
   "metadata": {},
   "outputs": [],
   "source": [
    "from typing import Optional\n",
    "\n",
    "class LinkedList:\n",
    "    pass\n",
    "\n",
    "class LinkedList:\n",
    "    def __init__(self,\n",
    "                 data: int,\n",
    "                 next_node: Optional[LinkedList] = None) -> None:\n",
    "        self.data: int = data\n",
    "        self.next_node: Optional[LinkedList] = next_node\n",
    "\n",
    "    def __add__(self, node) -> LinkedList:\n",
    "        current_node = self\n",
    "\n",
    "        while current_node.next_node:\n",
    "            current_node = current_node.next_node\n",
    "        \n",
    "        current_node.next_node = node\n",
    "\n",
    "        return self\n",
    "        \n",
    "    def __str__(self) -> str:\n",
    "        if self.next_node:\n",
    "            return f\"{self.data} -> {self.next_node}\"\n",
    "        else:\n",
    "            return f\"{self.data}\""
   ]
  },
  {
   "cell_type": "code",
   "execution_count": 2,
   "metadata": {},
   "outputs": [
    {
     "name": "stdout",
     "output_type": "stream",
     "text": [
      "1 -> 2 -> 3 -> 4 -> 5\n",
      "1 -> 2 -> 3 -> 4 -> 5\n"
     ]
    }
   ],
   "source": [
    "print(LinkedList(1, LinkedList(2, LinkedList(3, LinkedList(4, LinkedList(5))))))\n",
    "print(LinkedList(1) + LinkedList(2) + LinkedList(3) + LinkedList(4) + LinkedList(5))"
   ]
  },
  {
   "cell_type": "code",
   "execution_count": 3,
   "metadata": {},
   "outputs": [],
   "source": [
    "from typing import Optional\n",
    "\n",
    "class DoubleLinkedList:\n",
    "    pass\n",
    "\n",
    "class DoubleLinkedList:\n",
    "    def __init__(self,\n",
    "                 new_data: int,\n",
    "                 prev_node: Optional[DoubleLinkedList] = None,\n",
    "                 next_node: Optional[DoubleLinkedList] = None) -> None:\n",
    "        self.data: int = new_data\n",
    "        self.prev_node: Optional[DoubleLinkedList] = prev_node\n",
    "        self.next_node: Optional[DoubleLinkedList] = next_node\n",
    "\n",
    "    def __add__(self, node) -> DoubleLinkedList:\n",
    "        current_node = self\n",
    "\n",
    "        while current_node.next_node:\n",
    "            current_node = current_node.next_node\n",
    "        \n",
    "        current_node.next_node = node\n",
    "\n",
    "        return self\n",
    "    def __str__(self) -> str:\n",
    "        if self.next_node:\n",
    "            return f\"{self.data} <-> {self.next_node}\"\n",
    "        else:\n",
    "            return f\"{self.data}\""
   ]
  },
  {
   "cell_type": "code",
   "execution_count": 4,
   "metadata": {},
   "outputs": [
    {
     "name": "stdout",
     "output_type": "stream",
     "text": [
      "1 <-> 2 <-> 3\n",
      "1 <-> 2 <-> 3\n"
     ]
    }
   ],
   "source": [
    "print(DoubleLinkedList(1, None, DoubleLinkedList(2, None, DoubleLinkedList(3))))\n",
    "print(DoubleLinkedList(1) + DoubleLinkedList(2) + DoubleLinkedList(3))"
   ]
  },
  {
   "cell_type": "markdown",
   "metadata": {},
   "source": [
    "2.1 Remove Dups"
   ]
  },
  {
   "cell_type": "code",
   "execution_count": 5,
   "metadata": {},
   "outputs": [],
   "source": [
    "# solution with temporary buffer\n",
    "from typing import Dict\n",
    "\n",
    "def remove_duplicated_elements(head: LinkedList) -> LinkedList:\n",
    "    hash_table: Dict[int, bool] = {}\n",
    "    ls: LinkedList = head\n",
    "    prev_node: LinkedList\n",
    "\n",
    "    while ls:\n",
    "        if hash_table.get(ls.data):\n",
    "            prev_node.next_node = ls.next_node\n",
    "        else:\n",
    "            hash_table[ls.data] = True\n",
    "            prev_node = ls\n",
    "        ls = ls.next_node\n",
    "    return head"
   ]
  },
  {
   "cell_type": "code",
   "execution_count": 6,
   "metadata": {},
   "outputs": [],
   "source": [
    "# solution without temporary buffer\n",
    "def remove_duplicated_elements(head: LinkedList) -> LinkedList:\n",
    "    slow: LinkedList = head\n",
    "    \n",
    "    while slow and slow.next_node:\n",
    "        fast_prev_node: LinkedList = slow\n",
    "        fast: LinkedList = slow.next_node\n",
    "\n",
    "        while fast:\n",
    "            if slow.data == fast.data:\n",
    "                fast_prev_node.next_node = fast.next_node\n",
    "            else:\n",
    "                fast_prev_node = fast\n",
    "\n",
    "            fast = fast.next_node\n",
    "\n",
    "        slow = slow.next_node\n",
    "\n",
    "    return head"
   ]
  },
  {
   "cell_type": "code",
   "execution_count": 7,
   "metadata": {},
   "outputs": [
    {
     "name": "stdout",
     "output_type": "stream",
     "text": [
      "1 -> 2 -> 3 -> 4 -> 2\n"
     ]
    }
   ],
   "source": [
    "sample_linkedlist = LinkedList(1, LinkedList(2, LinkedList(3, LinkedList(4, LinkedList(2)))))\n",
    "\n",
    "print(sample_linkedlist)"
   ]
  },
  {
   "cell_type": "code",
   "execution_count": 8,
   "metadata": {},
   "outputs": [
    {
     "name": "stdout",
     "output_type": "stream",
     "text": [
      "1 -> 2 -> 3 -> 4\n"
     ]
    }
   ],
   "source": [
    "print(remove_duplicated_elements(sample_linkedlist))"
   ]
  },
  {
   "cell_type": "markdown",
   "metadata": {},
   "source": [
    "2.2 Return Kth to Last"
   ]
  },
  {
   "cell_type": "code",
   "execution_count": 9,
   "metadata": {},
   "outputs": [],
   "source": [
    "# assume that if k is larger than the linkedlist length, then we want to return None\n",
    "\n",
    "def return_kth_to_last(head: LinkedList, k: int) -> int:\n",
    "    slow: LinkedList = head\n",
    "    fast: LinkedList = head\n",
    "    \n",
    "    for i in range(k):\n",
    "        if fast.next_node:\n",
    "            fast = fast.next_node\n",
    "        else:\n",
    "            return None\n",
    "    \n",
    "    while fast:\n",
    "        slow = slow.next_node\n",
    "        fast = fast.next_node\n",
    "    \n",
    "    return slow.data"
   ]
  },
  {
   "cell_type": "code",
   "execution_count": 10,
   "metadata": {},
   "outputs": [
    {
     "name": "stdout",
     "output_type": "stream",
     "text": [
      "1 -> 2 -> 3 -> 4 -> 5 -> 6\n"
     ]
    }
   ],
   "source": [
    "sample_linkedlist = LinkedList(1, LinkedList(2, LinkedList(3, LinkedList(4, LinkedList(5, LinkedList(6))))))\n",
    "\n",
    "print(sample_linkedlist)"
   ]
  },
  {
   "cell_type": "code",
   "execution_count": 11,
   "metadata": {},
   "outputs": [
    {
     "name": "stdout",
     "output_type": "stream",
     "text": [
      "6\n"
     ]
    }
   ],
   "source": [
    "print(return_kth_to_last(sample_linkedlist, 1))"
   ]
  },
  {
   "cell_type": "markdown",
   "metadata": {},
   "source": [
    "2.3 Delete Middle Node"
   ]
  },
  {
   "cell_type": "code",
   "execution_count": 12,
   "metadata": {},
   "outputs": [],
   "source": [
    "def delete_middle_node(head: LinkedList) -> None:\n",
    "    slow_prev_node = None\n",
    "    slow: LinkedList = head\n",
    "    fast: LinkedList = head.next_node\n",
    "\n",
    "    while fast and fast.next_node:\n",
    "        slow_prev_node = slow\n",
    "        slow = slow.next_node\n",
    "        fast = fast.next_node.next_node\n",
    "    \n",
    "    if slow_prev_node:\n",
    "        slow_prev_node.next_node = slow.next_node\n",
    "\n",
    "\n",
    "def delete_middle_node_with_only_middle_node(middle: LinkedList) -> bool:\n",
    "    if middle and middle.next_node:\n",
    "        next_node = middle.next_node \n",
    "        \n",
    "        middle.data = next_node.data\n",
    "        middle.next_node = next_node.next_node\n",
    "\n",
    "        return True\n",
    "    else:\n",
    "        return False"
   ]
  },
  {
   "cell_type": "code",
   "execution_count": 13,
   "metadata": {},
   "outputs": [
    {
     "name": "stdout",
     "output_type": "stream",
     "text": [
      "1 -> 2 -> 3 -> 4 -> 5 -> 6\n"
     ]
    }
   ],
   "source": [
    "sample_linkedlist = LinkedList(1, LinkedList(2, LinkedList(3, LinkedList(4, LinkedList(5, LinkedList(6))))))\n",
    "\n",
    "print(sample_linkedlist)"
   ]
  },
  {
   "cell_type": "code",
   "execution_count": 14,
   "metadata": {},
   "outputs": [
    {
     "name": "stdout",
     "output_type": "stream",
     "text": [
      "1 -> 2 -> 4 -> 5 -> 6\n"
     ]
    }
   ],
   "source": [
    "delete_middle_node(sample_linkedlist)\n",
    "\n",
    "print(sample_linkedlist)"
   ]
  },
  {
   "cell_type": "markdown",
   "metadata": {},
   "source": [
    "2.4 Partition"
   ]
  },
  {
   "cell_type": "code",
   "execution_count": 15,
   "metadata": {},
   "outputs": [],
   "source": [
    "from typing import Optional\n",
    "\n",
    "def partition(head: LinkedList, value: int) -> LinkedList:\n",
    "    runner: LinkedList = head\n",
    "        \n",
    "    lesser: Optional[LinkedList] = None\n",
    "    lesser_runner: Optional[LinkedList] = None\n",
    "        \n",
    "    larger_or_equal: Optional[LinkedList] = None\n",
    "    larger_or_equal_runner: Optional[LinkedList] = None\n",
    "\n",
    "    while runner:\n",
    "        if runner.data < value:\n",
    "            if lesser:\n",
    "                lesser_runner.next_node = LinkedList(runner.data)\n",
    "                lesser_runner = lesser_runner.next_node\n",
    "            else:\n",
    "                lesser = LinkedList(runner.data)\n",
    "                lesser_runner = lesser\n",
    "        else:\n",
    "            if larger_or_equal:\n",
    "                larger_or_equal_runner.next_node = LinkedList(runner.data)\n",
    "                larger_or_equal_runner = larger_or_equal_runner.next_node\n",
    "            else:\n",
    "                larger_or_equal = LinkedList(runner.data)\n",
    "                larger_or_equal_runner = larger_or_equal\n",
    "\n",
    "        runner = runner.next_node\n",
    "\n",
    "    lesser_runner.next_node = larger_or_equal\n",
    "\n",
    "    return lesser"
   ]
  },
  {
   "cell_type": "code",
   "execution_count": 16,
   "metadata": {},
   "outputs": [
    {
     "name": "stdout",
     "output_type": "stream",
     "text": [
      "3 -> 2 -> 1 -> 5 -> 8 -> 5 -> 10\n"
     ]
    }
   ],
   "source": [
    "sample_linkedlist = LinkedList(3) + LinkedList(5) + LinkedList(8) + LinkedList(5) + LinkedList(10) + LinkedList(2) + LinkedList(1)\n",
    "\n",
    "# print(sample_linkedlist)\n",
    "\n",
    "print(partition(sample_linkedlist, 5))"
   ]
  },
  {
   "cell_type": "markdown",
   "metadata": {},
   "source": [
    "2.5 Sum Lists"
   ]
  },
  {
   "cell_type": "code",
   "execution_count": 17,
   "metadata": {},
   "outputs": [],
   "source": [
    "from typing import Optional\n",
    "\n",
    "def sum_linked_list(a: LinkedList, b: LinkedList) -> LinkedList:\n",
    "    def recurse(a: LinkedList, b: LinkedList, carry: int) -> Optional[LinkedList]:\n",
    "        if a is None and b is None and carry == 0:\n",
    "            return None\n",
    "\n",
    "        value: int = carry\n",
    "\n",
    "        if a:\n",
    "            value += a.data\n",
    "\n",
    "        if b:\n",
    "            value += b.data\n",
    "        \n",
    "        new_node: LinkedList = LinkedList(value - 10 if value >= 10 else value)\n",
    "\n",
    "        if a or b:\n",
    "            new_node.next_node = recurse(\n",
    "                a.next_node if a else None,\n",
    "                b.next_node if b else None,\n",
    "                1 if value >= 10 else 0\n",
    "            )\n",
    "        \n",
    "        return new_node\n",
    "        \n",
    "    return recurse(a, b, 0)\n",
    "\n",
    "def reverse_linked_list(head: LinkedList) -> LinkedList:\n",
    "    result: Optional[LinkedList] = None\n",
    "\n",
    "    while head:\n",
    "        result = LinkedList(head.data, result)\n",
    "        head = head.next_node\n",
    "\n",
    "    return result\n",
    "\n",
    "def sum_linkedlist_reverse(a: LinkedList, b: LinkedList) -> LinkedList:\n",
    "    return reverse_linked_list(\n",
    "        sum_linked_list(reverse_linked_list(a), reverse_linked_list(b))\n",
    "    )"
   ]
  },
  {
   "cell_type": "code",
   "execution_count": 18,
   "metadata": {},
   "outputs": [
    {
     "name": "stdout",
     "output_type": "stream",
     "text": [
      "7 -> 1 -> 6 -> 9\n",
      "5 -> 9 -> 2\n",
      "2 -> 1 -> 9 -> 9\n"
     ]
    }
   ],
   "source": [
    "a = LinkedList(7) + LinkedList(1) + LinkedList(6) + LinkedList(9)\n",
    "print(a)\n",
    "\n",
    "b = LinkedList(5) + LinkedList(9) + LinkedList(2)\n",
    "print(b)\n",
    "\n",
    "result = sum_linked_list(a, b)\n",
    "print(result)"
   ]
  },
  {
   "cell_type": "code",
   "execution_count": 19,
   "metadata": {},
   "outputs": [
    {
     "name": "stdout",
     "output_type": "stream",
     "text": [
      "6 -> 1 -> 7\n",
      "2 -> 9 -> 5\n",
      "9 -> 1 -> 2\n"
     ]
    }
   ],
   "source": [
    "c = LinkedList(6) + LinkedList(1) + LinkedList(7)\n",
    "print(c)\n",
    "\n",
    "d = LinkedList(2) + LinkedList(9) + LinkedList(5)\n",
    "print(d)\n",
    "\n",
    "result = sum_linkedlist_reverse(c, d)\n",
    "print(result)"
   ]
  },
  {
   "cell_type": "markdown",
   "metadata": {},
   "source": [
    "2.6 Palindrome"
   ]
  },
  {
   "cell_type": "code",
   "execution_count": 20,
   "metadata": {},
   "outputs": [],
   "source": [
    "from typing import Optional\n",
    "\n",
    "def is_palindrome(head: LinkedList) -> bool:\n",
    "    slow: LinkedList = head\n",
    "    fast: LinkedList = head.next_node\n",
    "    new_linked_list: Optional[LinkedList] = None\n",
    "\n",
    "    while fast and fast.next_node:\n",
    "        new_linked_list = LinkedList(slow.data, new_linked_list)\n",
    "        slow = slow.next_node\n",
    "        fast = fast.next_node.next_node\n",
    "    \n",
    "    new_linked_list = LinkedList(slow.data, new_linked_list)\n",
    "    slow = slow.next_node\n",
    "\n",
    "    # handle odd case\n",
    "    if new_linked_list.data != slow.data:\n",
    "        new_linked_list = new_linked_list.next_node\n",
    "            \n",
    "    while slow:\n",
    "        if new_linked_list.data != slow.data:\n",
    "            return False\n",
    "\n",
    "        slow = slow.next_node\n",
    "        new_linked_list = new_linked_list.next_node\n",
    "\n",
    "    return True"
   ]
  },
  {
   "cell_type": "code",
   "execution_count": 21,
   "metadata": {},
   "outputs": [
    {
     "name": "stdout",
     "output_type": "stream",
     "text": [
      "1 -> 2 -> 3 -> 3 -> 2 -> 1\n"
     ]
    }
   ],
   "source": [
    "sample_linkedlist = LinkedList(1, LinkedList(2, LinkedList(3, LinkedList(3, LinkedList(2, LinkedList(1))))))\n",
    "\n",
    "print(sample_linkedlist)"
   ]
  },
  {
   "cell_type": "code",
   "execution_count": 22,
   "metadata": {},
   "outputs": [
    {
     "data": {
      "text/plain": [
       "True"
      ]
     },
     "execution_count": 22,
     "metadata": {},
     "output_type": "execute_result"
    }
   ],
   "source": [
    "is_palindrome(sample_linkedlist)"
   ]
  },
  {
   "cell_type": "code",
   "execution_count": 23,
   "metadata": {},
   "outputs": [
    {
     "name": "stdout",
     "output_type": "stream",
     "text": [
      "1 -> 2 -> 3 -> 2 -> 1\n"
     ]
    }
   ],
   "source": [
    "sample_linkedlist = LinkedList(1, LinkedList(2, LinkedList(3, LinkedList(2, LinkedList(1)))))\n",
    "\n",
    "print(sample_linkedlist)"
   ]
  },
  {
   "cell_type": "code",
   "execution_count": 24,
   "metadata": {},
   "outputs": [
    {
     "data": {
      "text/plain": [
       "True"
      ]
     },
     "execution_count": 24,
     "metadata": {},
     "output_type": "execute_result"
    }
   ],
   "source": [
    "is_palindrome(sample_linkedlist)"
   ]
  },
  {
   "cell_type": "markdown",
   "metadata": {},
   "source": [
    "2.7 Intersection"
   ]
  },
  {
   "cell_type": "code",
   "execution_count": 25,
   "metadata": {},
   "outputs": [],
   "source": [
    "from typing import List, Optional\n",
    "\n",
    "def create_stack(ls: LinkedList) -> List[LinkedList]:\n",
    "    runner: LinkedList = ls\n",
    "    stack: List[LinkedList] = []\n",
    "        \n",
    "    while runner:\n",
    "        stack.append(runner)\n",
    "        runner = runner.next_node\n",
    "\n",
    "    return stack\n",
    "\n",
    "def has_intersect(a: LinkedList, b: LinkedList) -> LinkedList:\n",
    "    stack_a: List[LinkedList] = create_stack(a)\n",
    "    stack_b: List[LinkedList] = create_stack(b)\n",
    "        \n",
    "    while stack_a and stack_b and stack_a[-1] == stack_b[-1]:\n",
    "        stack_a.pop()\n",
    "        stack_b.pop()\n",
    "    \n",
    "    if stack_a and stack_b and stack_a[-1].next_node == stack_b[-1].next_node:\n",
    "        return stack_a[-1].next_node\n",
    "    else:\n",
    "        return None"
   ]
  },
  {
   "cell_type": "code",
   "execution_count": 26,
   "metadata": {},
   "outputs": [
    {
     "name": "stdout",
     "output_type": "stream",
     "text": [
      "1 -> 2 -> 3 -> 7 -> 8 -> 9\n",
      "4 -> 5 -> 6 -> 7 -> 8 -> 9\n",
      "7 -> 8 -> 9\n"
     ]
    }
   ],
   "source": [
    "a = LinkedList(1) + LinkedList(2) + LinkedList(3)\n",
    "b = LinkedList(4) + LinkedList(5) + LinkedList(6)\n",
    "c = LinkedList(7) + LinkedList(8) + LinkedList(9)\n",
    "\n",
    "a = a + c\n",
    "b = b + c\n",
    "\n",
    "print(a)\n",
    "print(b)\n",
    "\n",
    "print(has_intersect(a, b))"
   ]
  },
  {
   "cell_type": "markdown",
   "metadata": {},
   "source": [
    "2.8 Loop Detection"
   ]
  },
  {
   "cell_type": "code",
   "execution_count": 27,
   "metadata": {},
   "outputs": [],
   "source": [
    "def has_loop(head: LinkedList) -> bool:\n",
    "    slow = head\n",
    "    fast = head.next_node\n",
    "    \n",
    "    try:\n",
    "        while slow is not fast:\n",
    "            slow = slow.next_node\n",
    "            fast = fast.next_node.next_node\n",
    "            \n",
    "        return True\n",
    "    except:\n",
    "        return False\n",
    "\n",
    "def circular_detection(head: LinkedList) -> LinkedList:\n",
    "    runner: LinkedList = head\n",
    "    \n",
    "    while runner:\n",
    "        next_node = runner.next_node\n",
    "        runner.next_node = None\n",
    "        has_circular_loop = has_loop(next_node)\n",
    "        runner.next_node = next_node\n",
    "        \n",
    "        if not has_circular_loop:\n",
    "            return runner\n",
    "        \n",
    "        runner = runner.next_node\n",
    "\n",
    "    return None"
   ]
  },
  {
   "cell_type": "code",
   "execution_count": 28,
   "metadata": {},
   "outputs": [],
   "source": [
    "def circular_detection(head: LinkedList) -> LinkedList:\n",
    "    slow: LinkedList = head\n",
    "    fast: LinkedList = head\n",
    "        \n",
    "    while fast and fast.next_node:\n",
    "        slow = slow.next_node\n",
    "        fast = fast.next_node.next_node\n",
    "        \n",
    "        if slow is fast:\n",
    "            break\n",
    "\n",
    "    if not fast and not fast.next_node:\n",
    "        return None\n",
    "\n",
    "    slow = head\n",
    "    \n",
    "    while slow is not fast:\n",
    "        slow = slow.next_node\n",
    "        fast = fast.next_node\n",
    "    \n",
    "    return slow"
   ]
  },
  {
   "cell_type": "code",
   "execution_count": 29,
   "metadata": {},
   "outputs": [
    {
     "name": "stdout",
     "output_type": "stream",
     "text": [
      "1 -> 2 -> 3 -> 4 -> 5\n",
      "3\n"
     ]
    }
   ],
   "source": [
    "sample_linkedlist = LinkedList(1) + LinkedList(2) + LinkedList(3) + LinkedList(4) + LinkedList(5)\n",
    "\n",
    "print(sample_linkedlist)\n",
    "\n",
    "pointer = sample_linkedlist\n",
    "\n",
    "while pointer.next_node:\n",
    "    pointer = pointer.next_node\n",
    "\n",
    "pointer.next_node = sample_linkedlist.next_node.next_node\n",
    "\n",
    "print(pointer.next_node.data)"
   ]
  },
  {
   "cell_type": "code",
   "execution_count": 30,
   "metadata": {},
   "outputs": [
    {
     "data": {
      "text/plain": [
       "3"
      ]
     },
     "execution_count": 30,
     "metadata": {},
     "output_type": "execute_result"
    }
   ],
   "source": [
    "circular_detection(sample_linkedlist).data"
   ]
  }
 ],
 "metadata": {
  "kernelspec": {
   "display_name": "Python 3",
   "language": "python",
   "name": "python3"
  },
  "language_info": {
   "codemirror_mode": {
    "name": "ipython",
    "version": 3
   },
   "file_extension": ".py",
   "mimetype": "text/x-python",
   "name": "python",
   "nbconvert_exporter": "python",
   "pygments_lexer": "ipython3",
   "version": "3.8.5"
  }
 },
 "nbformat": 4,
 "nbformat_minor": 4
}
