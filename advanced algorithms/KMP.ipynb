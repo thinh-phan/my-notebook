{
 "cells": [
  {
   "cell_type": "markdown",
   "metadata": {},
   "source": [
    "# Knuth - Morris - Pratt Algorithm"
   ]
  },
  {
   "cell_type": "markdown",
   "metadata": {},
   "source": [
    "## KMP Preprocess"
   ]
  },
  {
   "cell_type": "code",
   "execution_count": null,
   "metadata": {},
   "outputs": [],
   "source": [
    "class KMP:\n",
    "    def partial(self, pattern):\n",
    "        \"\"\" Calculate partial match table: String -> [Int]\"\"\"\n",
    "        ret = [0]\n",
    "        \n",
    "        for i in range(1, len(pattern)):\n",
    "            j = ret[i - 1]\n",
    "            while j > 0 and pattern[j] != pattern[i]:\n",
    "                j = ret[j - 1]\n",
    "            ret.append(j + 1 if pattern[j] == pattern[i] else j)\n",
    "        return ret\n",
    "        \n",
    "    def search(self, T, P):\n",
    "        \"\"\" \n",
    "        KMP search main algorithm: String -> String -> [Int] \n",
    "        Return all the matching position of pattern string P in T\n",
    "        \"\"\"\n",
    "        partial, ret, j = self.partial(P), [], 0\n",
    "        \n",
    "        for i in range(len(T)):\n",
    "            while j > 0 and T[i] != P[j]:\n",
    "                j = partial[j - 1]\n",
    "            if T[i] == P[j]: j += 1\n",
    "            if j == len(P): \n",
    "                ret.append(i - (j - 1))\n",
    "                j = partial[j - 1]\n",
    "            \n",
    "        return ret\n",
    "\n",
    "\n",
    "\n",
    "\n",
    "def test():\n",
    "    p1 = \"aa\"\n",
    "    t1 = \"aaaaaaaa\"\n",
    "\n",
    "    kmp = KMP()\n",
    "    assert(kmp.search(t1, p1) == [0, 1, 2, 3, 4, 5, 6])\n",
    "\n",
    "    p2 = \"abc\"\n",
    "    t2 = \"abdabeabfabc\"\n",
    "\n",
    "    assert(kmp.search(t2, p2) == [9])\n",
    "\n",
    "    p3 = \"aab\"\n",
    "    t3 = \"aaabaacbaab\"\n",
    "\n",
    "    assert(kmp.search(t3, p3) == [1, 8])\n",
    "\n",
    "    print(\"all test pass\")"
   ]
  }
 ],
 "metadata": {
  "kernelspec": {
   "display_name": "Python 3",
   "language": "python",
   "name": "python3"
  },
  "language_info": {
   "codemirror_mode": {
    "name": "ipython",
    "version": 3
   },
   "file_extension": ".py",
   "mimetype": "text/x-python",
   "name": "python",
   "nbconvert_exporter": "python",
   "pygments_lexer": "ipython3",
   "version": "3.8.0"
  }
 },
 "nbformat": 4,
 "nbformat_minor": 4
}
