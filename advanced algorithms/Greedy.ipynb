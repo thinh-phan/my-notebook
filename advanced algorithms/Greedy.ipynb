{
 "cells": [
  {
   "cell_type": "markdown",
   "metadata": {},
   "source": [
    "# Greedy"
   ]
  },
  {
   "cell_type": "markdown",
   "metadata": {},
   "source": [
    "## Activity selection"
   ]
  },
  {
   "cell_type": "code",
   "execution_count": 2,
   "metadata": {},
   "outputs": [
    {
     "name": "stdin",
     "output_type": "stream",
     "text": [
      " 10\n",
      " 5 6\n",
      " 1 3\n",
      " 3 5\n",
      " 3 7\n",
      " 5 9\n",
      " 6 10\n",
      " 8 12\n",
      " 0 6\n",
      " 4 11\n",
      " 2 12\n"
     ]
    },
    {
     "name": "stdout",
     "output_type": "stream",
     "text": [
      "1 - 3\n",
      "3 - 5\n",
      "5 - 6\n",
      "6 - 10\n"
     ]
    }
   ],
   "source": [
    "class Activity:\n",
    "    def __init__(self, start, finish):\n",
    "        self.start = start\n",
    "        self.finish = finish\n",
    "\n",
    "def activitySelection():\n",
    "    a.sort(key=lambda activity:activity.finish)\n",
    "    i= 0\n",
    "    res.append(a[0])\n",
    "    for j in range(1, len(a)):\n",
    "        if a[j].start >= a[i].finish:\n",
    "            res.append(a[j])\n",
    "            i = j\n",
    "\n",
    "def printActivities():\n",
    "    for activity in res:\n",
    "        print(\"{} - {}\".format(activity.start, activity.finish))\n",
    "\n",
    "if __name__ == \"__main__\":\n",
    "    a = []\n",
    "    res = []\n",
    "    n = int(input())\n",
    "    for i in range(n):\n",
    "        s, f = map(int, input().split())\n",
    "        a.append(Activity(s, f))\n",
    "    activitySelection()\n",
    "    printActivities()"
   ]
  },
  {
   "cell_type": "markdown",
   "metadata": {},
   "source": [
    "## Graph coloring"
   ]
  },
  {
   "cell_type": "code",
   "execution_count": 3,
   "metadata": {},
   "outputs": [
    {
     "name": "stdin",
     "output_type": "stream",
     "text": [
      " 10 15\n",
      " 0 1\n",
      " 0 4\n",
      " 0 5\n",
      " 1 2\n",
      " 1 6\n",
      " 2 3\n",
      " 2 7\n",
      " 3 4\n",
      " 3 8\n",
      " 4 9\n",
      " 5 7\n",
      " 5 8\n",
      " 6 8\n",
      " 6 9\n",
      " 6 9\n"
     ]
    },
    {
     "name": "stdout",
     "output_type": "stream",
     "text": [
      "Vertex [] --> Color 0\n",
      "Vertex [] --> Color 1\n",
      "Vertex [] --> Color 2\n",
      "Vertex [] --> Color 3\n",
      "Vertex [] --> Color 4\n",
      "Vertex [] --> Color 5\n",
      "Vertex [] --> Color 6\n",
      "Vertex [] --> Color 7\n",
      "Vertex [] --> Color 8\n",
      "Vertex [] --> Color 9\n"
     ]
    }
   ],
   "source": [
    "MAX = 100\n",
    "\n",
    "def printColoring():\n",
    "    for i in range(V):\n",
    "        print(\"Vertex [] --> Color {}\".format(i, result[i]))\n",
    "\n",
    "def greedyColoring():\n",
    "    for u in range(V):\n",
    "        for neighbor in graph[u]:\n",
    "            if result[neighbor] != -1:\n",
    "                colors[result[neighbor]] = True\n",
    "        for cr in range(V):\n",
    "            if colors[cr] == False:\n",
    "                result[u] = cr\n",
    "                break\n",
    "        for neighbor in graph[u]:\n",
    "            if result[neighbor] != -1:\n",
    "                colors[result[neighbor]] = False\n",
    "if __name__ == '__main__':\n",
    "    V, E = map(int, input().split())\n",
    "    result = [-1 for i in range(V)] \n",
    "    colors = [False for i in range(V)]\n",
    "    graph = [[] for i in range(V)]\n",
    "    for i in range(E):\n",
    "        u, v = map(int, input().split())\n",
    "        graph[u].append(v)\n",
    "        graph[v].append(u)\n",
    "    greedyColoring()\n",
    "    printColoring()"
   ]
  },
  {
   "cell_type": "markdown",
   "metadata": {},
   "source": [
    "## Finding a taxi"
   ]
  },
  {
   "cell_type": "code",
   "execution_count": 6,
   "metadata": {},
   "outputs": [
    {
     "name": "stdout",
     "output_type": "stream",
     "text": [
      "Maximum matching:  6\n"
     ]
    }
   ],
   "source": [
    "def findingTaxi(a, k):\n",
    "    result = 0\n",
    "    user = []\n",
    "    taxi = []\n",
    "    for i in range(len(a)):\n",
    "        if a[i] == 'U':\n",
    "            user.append(i)\n",
    "        elif a[i] == 'T':\n",
    "            taxi.append(i)\n",
    "            \n",
    "    j = i = 0\n",
    "    while j < len(taxi) and i < len(user):\n",
    "        if abs(user[i] - taxi[j]) <= k:\n",
    "            result += 1\n",
    "            i += 1\n",
    "            j += 1\n",
    "        elif user[i] > taxi[j]:\n",
    "            j += 1\n",
    "        else: \n",
    "            i += 1\n",
    "    return result\n",
    "\n",
    "if __name__ == \"__main__\":\n",
    "    a = ['U', 'T', 'U', 'T', 'T', 'U', 'U', 'U', 'U', 'U', 'U', 'U', 'T', 'T', 'T']\n",
    "    k = 3\n",
    "    print('Maximum matching: ', findingTaxi(a, k))"
   ]
  }
 ],
 "metadata": {
  "kernelspec": {
   "display_name": "Python 3",
   "language": "python",
   "name": "python3"
  },
  "language_info": {
   "codemirror_mode": {
    "name": "ipython",
    "version": 3
   },
   "file_extension": ".py",
   "mimetype": "text/x-python",
   "name": "python",
   "nbconvert_exporter": "python",
   "pygments_lexer": "ipython3",
   "version": "3.8.0"
  }
 },
 "nbformat": 4,
 "nbformat_minor": 4
}
