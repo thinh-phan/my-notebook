{
 "cells": [
  {
   "cell_type": "markdown",
   "metadata": {},
   "source": [
    "# Dynamic Programming II"
   ]
  },
  {
   "cell_type": "markdown",
   "metadata": {},
   "source": [
    "## LCS recursion"
   ]
  },
  {
   "cell_type": "code",
   "execution_count": 1,
   "metadata": {},
   "outputs": [
    {
     "name": "stdout",
     "output_type": "stream",
     "text": [
      "Length of LCS is: 2\n",
      "The history saving thread hit an unexpected error (OperationalError('database is locked')).History will not be written to the database.\n"
     ]
    }
   ],
   "source": [
    "def lcs(s1, s2, m, n):\n",
    "    if m == 0 or n == 0:\n",
    "        return 0\n",
    "    if s1[m - 1] == s2[n - 1]:\n",
    "        return 1 + lcs(s1, s2, m - 1, n - 1)\n",
    "    else:\n",
    "        return max(lcs(s1, s2, m, n - 1), lcs(s1, s2, m - 1, n))\n",
    "\n",
    "if __name__ == \"__main__\":\n",
    "    s1 = \"ED\"\n",
    "    s2 = \"ECDG\"\n",
    "    print(\"Length of LCS is: {}\".format(lcs(s1, s2, len(s1), len(s2))))"
   ]
  },
  {
   "cell_type": "markdown",
   "metadata": {},
   "source": [
    "## LCS Top Down"
   ]
  },
  {
   "cell_type": "code",
   "execution_count": 1,
   "metadata": {},
   "outputs": [
    {
     "name": "stdout",
     "output_type": "stream",
     "text": [
      "Length of LCS is:  7\n",
      "The history saving thread hit an unexpected error (OperationalError('database is locked')).History will not be written to the database.\n"
     ]
    }
   ],
   "source": [
    "MAXM = 100\n",
    "MAXN = 100\n",
    "L = [[-1] * (MAXN + 1) for i in range(MAXM + 1)]\n",
    "\n",
    "def lcs(s1, s2, m, n):\n",
    "    if m == 0 or n == 0:\n",
    "        return 0\n",
    "    if L[m - 1][n - 1] != -1:\n",
    "        return L[m - 1][n - 1]\n",
    "    if s1[m - 1] == s2[n - 1]:\n",
    "        L[m - 1][n - 1] = 1 + lcs(s1, s2, m - 1, n - 1)\n",
    "        return L[m - 1][n - 1]\n",
    "    else:\n",
    "        L[m - 1][n - 1] = max(lcs(s1, s2, m, n - 1), lcs(s1, s2, m - 1, n))\n",
    "        return L[m - 1][n - 1]\n",
    "    \n",
    "if __name__ == \"__main__\":\n",
    "    s1 = \"ATCJDZEFGY\"\n",
    "    s2 = \"BADCJEFGYT\"\n",
    "    print(\"Length of LCS is: \", lcs(s1, s2, len(s1), len(s2)))"
   ]
  },
  {
   "cell_type": "markdown",
   "metadata": {},
   "source": [
    "## LCS Bottom UP"
   ]
  },
  {
   "cell_type": "code",
   "execution_count": 9,
   "metadata": {},
   "outputs": [
    {
     "name": "stdout",
     "output_type": "stream",
     "text": [
      "Length of LCS is: 7\n"
     ]
    }
   ],
   "source": [
    "MAXM = 100\n",
    "MAXN = 100\n",
    "\n",
    "L = [[-1] * (MAXN + 1) for i in range(MAXM + 1)]\n",
    "\n",
    "def lcs(s1, s2, m, n):\n",
    "    for i in range(m + 1):\n",
    "        for j in range(n + 1):\n",
    "            if i == 0 or j == 0:\n",
    "                L[i][j] = 0\n",
    "            elif s1[i - 1] == s2[j - 1]:\n",
    "                L[i][j] = L[i - 1][j - 1] + 1\n",
    "            else:\n",
    "                L[i][j] = max(L[i - 1][j], L[i][j - 1])\n",
    "    return L[m][n]\n",
    "\n",
    "if __name__ == '__main__':\n",
    "    s1 = \"ATCJDZEFGY\"\n",
    "    s2 = \"BADCJEFGYT\"\n",
    "    m = len(s1)\n",
    "    n = len(s2)\n",
    "    print(\"Length of LCS is: {}\".format(lcs(s1, s2, m, n)))"
   ]
  },
  {
   "cell_type": "markdown",
   "metadata": {},
   "source": [
    "## Print LCS"
   ]
  },
  {
   "cell_type": "code",
   "execution_count": 10,
   "metadata": {},
   "outputs": [
    {
     "name": "stdout",
     "output_type": "stream",
     "text": [
      "Length of LCS is: 7\n",
      "ACJEFGY\n"
     ]
    }
   ],
   "source": [
    "MAXM = 100\n",
    "MAXN = 100\n",
    "\n",
    "L = [[-1] * (MAXN + 1) for i in range(MAXM + 1)]\n",
    "\n",
    "def lcs(s1, s2, m, n):\n",
    "    for i in range(m + 1):\n",
    "        for j in range(n + 1):\n",
    "            if i == 0 or j == 0:\n",
    "                L[i][j] = 0\n",
    "            elif s1[i - 1] == s2[j - 1]:\n",
    "                L[i][j] = L[i - 1][j - 1] + 1\n",
    "            else:\n",
    "                L[i][j] = max(L[i - 1][j], L[i][j - 1])\n",
    "    return L[m][n]\n",
    "\n",
    "def printLCS(s1, s2, m, n):\n",
    "    lengthLCS = L[m][n]\n",
    "    res = [\"\"] * lengthLCS\n",
    "    i = m\n",
    "    j = n\n",
    "    while i > 0 and j > 0:\n",
    "        if s1[i - 1] == s2[j - 1]:\n",
    "            res[lengthLCS - 1] = s1[i - 1]\n",
    "            i -= 1\n",
    "            j -= 1\n",
    "            lengthLCS -= 1\n",
    "        elif L[i - 1][j] > L[i][j - 1]:\n",
    "            i -= 1\n",
    "        else:\n",
    "            j -= 1\n",
    "    print(''.join(res))\n",
    "\n",
    "if __name__ == '__main__':\n",
    "    s1 = \"ATCJDZEFGY\"\n",
    "    s2 = \"BADCJEFGYT\"\n",
    "    m = len(s1)\n",
    "    n = len(s2)\n",
    "    print(\"Length of LCS is: {}\".format(lcs(s1, s2, m, n)))\n",
    "    printLCS(s1, s2, m, n)"
   ]
  }
 ],
 "metadata": {
  "kernelspec": {
   "display_name": "Python 3",
   "language": "python",
   "name": "python3"
  },
  "language_info": {
   "codemirror_mode": {
    "name": "ipython",
    "version": 3
   },
   "file_extension": ".py",
   "mimetype": "text/x-python",
   "name": "python",
   "nbconvert_exporter": "python",
   "pygments_lexer": "ipython3",
   "version": "3.8.0"
  }
 },
 "nbformat": 4,
 "nbformat_minor": 4
}
