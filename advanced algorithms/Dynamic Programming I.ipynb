{
 "cells": [
  {
   "cell_type": "markdown",
   "metadata": {},
   "source": [
    "# Dynamic Programming I"
   ]
  },
  {
   "cell_type": "markdown",
   "metadata": {},
   "source": [
    "## Fibonacci recursion"
   ]
  },
  {
   "cell_type": "code",
   "execution_count": 12,
   "metadata": {},
   "outputs": [
    {
     "name": "stdout",
     "output_type": "stream",
     "text": [
      "8\n"
     ]
    }
   ],
   "source": [
    "def fib(n):\n",
    "    if n <= 1:\n",
    "        return n\n",
    "    return fib(n - 1) + fib(n - 2)\n",
    "\n",
    "if __name__ == \"__main__\":\n",
    "    n = 6\n",
    "    print(fib(n))"
   ]
  },
  {
   "cell_type": "markdown",
   "metadata": {},
   "source": [
    "## Fibonacci Top-Down"
   ]
  },
  {
   "cell_type": "code",
   "execution_count": 7,
   "metadata": {},
   "outputs": [
    {
     "name": "stdout",
     "output_type": "stream",
     "text": [
      "8\n"
     ]
    }
   ],
   "source": [
    "def fib(n):\n",
    "    if n <= 1:\n",
    "        return n\n",
    "    if res[n] != 0:\n",
    "        return res[n]\n",
    "    else:\n",
    "        res[n] = fib(n - 1) + fib(n - 2)\n",
    "        return res[n]\n",
    "if __name__ == \"__main__\":\n",
    "    n = 6\n",
    "    res = [0] * (n + 1)\n",
    "    res[0] = 0\n",
    "    res[1] = 1\n",
    "    print(fib(n))"
   ]
  },
  {
   "cell_type": "markdown",
   "metadata": {},
   "source": [
    "## Fibonacci Bottom-up"
   ]
  },
  {
   "cell_type": "code",
   "execution_count": 5,
   "metadata": {},
   "outputs": [
    {
     "name": "stdout",
     "output_type": "stream",
     "text": [
      "8\n"
     ]
    }
   ],
   "source": [
    "def fib(n):\n",
    "    res[0] = 0\n",
    "    res[1] = 1\n",
    "    for i in range(2, n + 1):\n",
    "        res[i] = res[i - 1] + res[i - 2]\n",
    "    return res[n]\n",
    "    \n",
    "if __name__ == \"__main__\":\n",
    "    n = 6\n",
    "    res = [0] * (n + 1)\n",
    "    print(fib(n))"
   ]
  },
  {
   "cell_type": "markdown",
   "metadata": {},
   "source": [
    "## Staircase"
   ]
  },
  {
   "cell_type": "code",
   "execution_count": 10,
   "metadata": {},
   "outputs": [
    {
     "name": "stdout",
     "output_type": "stream",
     "text": [
      "21\n"
     ]
    }
   ],
   "source": [
    "def staircase(n):\n",
    "    s = [0] * (n + 1)\n",
    "    s[0] = 1\n",
    "    s[1] = 1\n",
    "    for i in range(2, n + 1):\n",
    "        s[i] = s[i - 1] + s[i - 2]\n",
    "    return s[n]\n",
    "\n",
    "if __name__ == \"__main__\":\n",
    "    n = 7\n",
    "    print(staircase(n))"
   ]
  },
  {
   "cell_type": "markdown",
   "metadata": {},
   "source": [
    "## Coin change problem"
   ]
  },
  {
   "cell_type": "code",
   "execution_count": 11,
   "metadata": {},
   "outputs": [
    {
     "name": "stdout",
     "output_type": "stream",
     "text": [
      "11\n",
      "1 1 1 1 1 1 1 1 1 1 \n",
      "1 1 1 1 1 1 1 1 2 \n",
      "1 1 1 1 1 1 2 2 \n",
      "1 1 1 1 1 5 \n",
      "1 1 1 1 2 2 2 \n",
      "1 1 1 2 5 \n",
      "1 1 2 2 2 2 \n",
      "1 2 2 5 \n",
      "2 2 2 2 2 \n",
      "5 5 \n",
      "10 \n"
     ]
    }
   ],
   "source": [
    "def coinChangeProblem(total, coins, n):\n",
    "    res = [0] * (total + 1)\n",
    "    res[0] = 1\n",
    "    for i in range(n):\n",
    "        for j in range(coins[i], total + 1):\n",
    "            res[j] += res[j - coins[i]]\n",
    "    return res[total]\n",
    "\n",
    "def printSolution(res, total, coins, n, pos):\n",
    "    if total == 0:\n",
    "        for r in res:\n",
    "            print(r, end = ' ')\n",
    "        print()\n",
    "    for i in range(pos, n):\n",
    "        if total >= coins[i]:\n",
    "            res.append(coins[i])\n",
    "            printSolution(res, total - coins[i], coins, n, i)\n",
    "            res.pop()\n",
    "            \n",
    "if __name__ == \"__main__\":\n",
    "    total = 10\n",
    "    coins = [1,2,5,10]\n",
    "    n = 4\n",
    "    print(coinChangeProblem(total, coins, n))\n",
    "    res = []\n",
    "    printSolution(res, total, coins, n, 0)"
   ]
  }
 ],
 "metadata": {
  "kernelspec": {
   "display_name": "Python 3",
   "language": "python",
   "name": "python3"
  },
  "language_info": {
   "codemirror_mode": {
    "name": "ipython",
    "version": 3
   },
   "file_extension": ".py",
   "mimetype": "text/x-python",
   "name": "python",
   "nbconvert_exporter": "python",
   "pygments_lexer": "ipython3",
   "version": "3.8.0"
  }
 },
 "nbformat": 4,
 "nbformat_minor": 4
}
