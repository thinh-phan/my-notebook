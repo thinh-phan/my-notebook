{
 "cells": [
  {
   "cell_type": "markdown",
   "metadata": {},
   "source": [
    "# Backtracking"
   ]
  },
  {
   "cell_type": "markdown",
   "metadata": {},
   "source": [
    "## N - Queen"
   ]
  },
  {
   "cell_type": "code",
   "execution_count": null,
   "metadata": {},
   "outputs": [],
   "source": [
    "N = 4\n",
    "board = [[0] * N for i in range(N)]\n",
    "def printSolution():\n",
    "    for i in range(N):\n",
    "        for j in range(N):\n",
    "            print(board[i][j], end = ' ')\n",
    "        print()\n",
    "    print()\n",
    "    \n",
    "def check(board, row, col):\n",
    "    # Check vertical\n",
    "    for i in range(row):\n",
    "        if board[i][col]:\n",
    "            return False\n",
    "    # Check main diagonal\n",
    "    i = row\n",
    "    j = col\n",
    "    while i >= 0 and j >= 0:\n",
    "        if board[i][j]:\n",
    "            return False\n",
    "        i -= 1\n",
    "        j -= 1\n",
    "    # Check main diagonal\n",
    "    i = row\n",
    "    j = col\n",
    "    while j < N and i >= 0:\n",
    "        if board[i][j]:\n",
    "            return False\n",
    "        i -= 1\n",
    "        j += 1\n",
    "    return True\n",
    "\n",
    "def NQueen(board, row):\n",
    "    if row == N:\n",
    "        printSolution()\n",
    "        return True\n",
    "    for j in range(N):\n",
    "        if check(board, row, j) == True:\n",
    "            board[row][j] = 1\n",
    "            NQueen(board, row + 1)\n",
    "            board[row][j] = 0\n",
    "    return False\n",
    "\n",
    "if __name__ == \"__main__\":\n",
    "    NQueen(board, 0)"
   ]
  },
  {
   "cell_type": "markdown",
   "metadata": {},
   "source": [
    "## Permutations of string"
   ]
  },
  {
   "cell_type": "code",
   "execution_count": null,
   "metadata": {},
   "outputs": [],
   "source": [
    "def permutation(s, l, r):\n",
    "    if l == r:\n",
    "        print(''.join(s))\n",
    "    else:\n",
    "        for i in range(l, r):\n",
    "            s[l], s[i] = s[i], s[l]\n",
    "            permutation(s, l + 1, r)\n",
    "            s[l], s[i] = s[i], s[l]\n",
    "\n",
    "if __name__ == \"__main__\":\n",
    "    s = list(\"ABCD\")\n",
    "    permutation(s, 0, len(s))"
   ]
  },
  {
   "cell_type": "markdown",
   "metadata": {},
   "source": [
    "## Distinct permutations of string"
   ]
  },
  {
   "cell_type": "code",
   "execution_count": 1,
   "metadata": {},
   "outputs": [
    {
     "name": "stdout",
     "output_type": "stream",
     "text": [
      "ABCD\n",
      "ABDC\n",
      "ACBD\n",
      "ACDB\n",
      "ADCB\n",
      "ADBC\n",
      "BACD\n",
      "BADC\n",
      "BCAD\n",
      "BCDA\n",
      "BDCA\n",
      "BDAC\n",
      "CBAD\n",
      "CBDA\n",
      "CABD\n",
      "CADB\n",
      "CDAB\n",
      "CDBA\n",
      "DBCA\n",
      "DBAC\n",
      "DCBA\n",
      "DCAB\n",
      "DACB\n",
      "DABC\n"
     ]
    }
   ],
   "source": [
    "def shouldSwap(s, start, end):\n",
    "    for i in range(start, end):\n",
    "        if s[i] == s[end]:\n",
    "            return False\n",
    "    return True\n",
    "\n",
    "def distinctPermutations(s, l, r):\n",
    "    if l >= r:\n",
    "        print(''.join(s))\n",
    "        return\n",
    "    for i in range(l, r):\n",
    "        check = shouldSwap(s, l, i)\n",
    "        if check == True:\n",
    "            s[l], s[i] = s[i], s[l]\n",
    "            distinctPermutations(s, l + 1, r)\n",
    "            s[l], s[i] = s[i], s[l]\n",
    "\n",
    "if __name__ == \"__main__\":\n",
    "    s = list(\"ABCD\")\n",
    "    distinctPermutations(s, 0, len(s))         "
   ]
  }
 ],
 "metadata": {
  "kernelspec": {
   "display_name": "Python 3",
   "language": "python",
   "name": "python3"
  },
  "language_info": {
   "codemirror_mode": {
    "name": "ipython",
    "version": 3
   },
   "file_extension": ".py",
   "mimetype": "text/x-python",
   "name": "python",
   "nbconvert_exporter": "python",
   "pygments_lexer": "ipython3",
   "version": "3.7.3"
  }
 },
 "nbformat": 4,
 "nbformat_minor": 4
}
