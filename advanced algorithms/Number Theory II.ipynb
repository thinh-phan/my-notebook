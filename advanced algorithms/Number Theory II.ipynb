{
 "cells": [
  {
   "cell_type": "markdown",
   "metadata": {},
   "source": [
    "# Number Theory II"
   ]
  },
  {
   "cell_type": "markdown",
   "metadata": {},
   "source": [
    "## Check prime number"
   ]
  },
  {
   "cell_type": "code",
   "execution_count": 3,
   "metadata": {},
   "outputs": [
    {
     "name": "stdout",
     "output_type": "stream",
     "text": [
      "False\n"
     ]
    }
   ],
   "source": [
    "def isPrime(n):\n",
    "    for i in range(2, int(n ** 0.5) + 1):\n",
    "        if n % i == 0:\n",
    "            return False\n",
    "    return n > 1"
   ]
  },
  {
   "cell_type": "markdown",
   "metadata": {},
   "source": [
    "## Sieve of Eratosthenes"
   ]
  },
  {
   "cell_type": "code",
   "execution_count": 5,
   "metadata": {},
   "outputs": [
    {
     "name": "stdout",
     "output_type": "stream",
     "text": [
      "7 11 13 17 19 23 \n"
     ]
    }
   ],
   "source": [
    "def sieveOfEratosthenes(n):\n",
    "    mark = [True] * (n + 1)\n",
    "    primes = []\n",
    "    mark[0] = mark[1] = False\n",
    "\n",
    "    for i in range(2, int(n ** 0.5) + 1):\n",
    "        if mark[i] == True:\n",
    "            for j in range(i * 1, n + 1, i):\n",
    "                mark[j] = False\n",
    "\n",
    "    for i in range(2, n + 1):\n",
    "        if mark[i] == True:\n",
    "            primes.append(i)\n",
    "            \n",
    "    return primes\n",
    "\n",
    "if __name__ == \"__main__\":\n",
    "    n = 25\n",
    "    primes = sieveOfEratosthenes(n)\n",
    "    for i in range(len(primes)):\n",
    "        print(primes[i], end = ' ')\n",
    "    print()"
   ]
  },
  {
   "cell_type": "markdown",
   "metadata": {},
   "source": [
    "## Segmented Sieve"
   ]
  },
  {
   "cell_type": "code",
   "execution_count": 12,
   "metadata": {},
   "outputs": [
    {
     "name": "stdout",
     "output_type": "stream",
     "text": [
      "13 17 19 23 29 31 "
     ]
    }
   ],
   "source": [
    "def sieveOfEratosthenes(limit):\n",
    "    mark = [True] * (limit + 1)\n",
    "    primes = []\n",
    "    mark[0] = mark[1] = False\n",
    "    \n",
    "    for i in range(2, int(limit ** 0.5) + 1):\n",
    "        if mark[i] == True:\n",
    "            for j in range(i * i, limit + 1, i):\n",
    "                mark[j] = False\n",
    "\n",
    "    for i in range(2, limit + 1):\n",
    "        if mark[i] == True:\n",
    "            primes.append(i)\n",
    "    \n",
    "    return primes\n",
    "\n",
    "def segmentedSieve(l, r, primes):\n",
    "    if l == 1: l += 1\n",
    "    mark = [True] * (r - l + 1)\n",
    "    i = 0\n",
    "    while i < len(primes) and primes[i] <= r ** 0.5:\n",
    "        base = l // primes[i] * primes[i]\n",
    "        if base < l: base += primes[i]\n",
    "        for j in range(base, r + 1, primes[i]):\n",
    "            if j != primes[i]:\n",
    "                mark[j - l] = False\n",
    "        i += 1\n",
    "    res = []\n",
    "    for i in range(l, r + 1):\n",
    "        if mark[i - l] == True:\n",
    "            res.append(i)\n",
    "    return res\n",
    "\n",
    "if __name__ == \"__main__\":\n",
    "    l = 12\n",
    "    r = 35\n",
    "    limit = int(r ** 0.5)\n",
    "    primes = sieveOfEratosthenes(limit)\n",
    "    res = segmentedSieve(l, r, primes)\n",
    "    for p in res:\n",
    "        print(p, end = ' ')"
   ]
  },
  {
   "cell_type": "markdown",
   "metadata": {},
   "source": [
    "## Euler's totient function"
   ]
  },
  {
   "cell_type": "code",
   "execution_count": 13,
   "metadata": {},
   "outputs": [
    {
     "name": "stdout",
     "output_type": "stream",
     "text": [
      "phi (60) = 16\n"
     ]
    }
   ],
   "source": [
    "def gcd(a, b):\n",
    "    while b != 0:\n",
    "        remainder = a % b\n",
    "        a = b\n",
    "        b = remainder\n",
    "    return a\n",
    "\n",
    "def phi(n):\n",
    "    res = 1\n",
    "    for i in range(2, n):\n",
    "        if gcd(i, n) == 1:\n",
    "            res += 1\n",
    "    return res\n",
    "\n",
    "if __name__ == \"__main__\":\n",
    "    n = 60\n",
    "    print('phi (', n, ') = ', phi(n), sep = '')"
   ]
  },
  {
   "cell_type": "code",
   "execution_count": 15,
   "metadata": {},
   "outputs": [
    {
     "name": "stdout",
     "output_type": "stream",
     "text": [
      "phi (60) = 16\n"
     ]
    }
   ],
   "source": [
    "def phi(n):\n",
    "    res = n\n",
    "    for i in range(2, int(n ** 0.5) + 1):\n",
    "        if n % i == 0:\n",
    "            while n % i == 0:\n",
    "                n //= i\n",
    "            res = res // i * (i - 1)\n",
    "    if n > 1:\n",
    "        res = res // n * (n - 1)\n",
    "    return res\n",
    "    \n",
    "if __name__ == \"__main__\":\n",
    "    n = 60\n",
    "    print('phi (', n, ') = ', phi(n), sep = '')"
   ]
  }
 ],
 "metadata": {
  "kernelspec": {
   "display_name": "Python 3",
   "language": "python",
   "name": "python3"
  },
  "language_info": {
   "codemirror_mode": {
    "name": "ipython",
    "version": 3
   },
   "file_extension": ".py",
   "mimetype": "text/x-python",
   "name": "python",
   "nbconvert_exporter": "python",
   "pygments_lexer": "ipython3",
   "version": "3.8.0"
  }
 },
 "nbformat": 4,
 "nbformat_minor": 4
}
