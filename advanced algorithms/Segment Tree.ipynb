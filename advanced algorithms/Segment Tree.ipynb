{
 "cells": [
  {
   "cell_type": "markdown",
   "metadata": {},
   "source": [
    "# Segment Tree"
   ]
  },
  {
   "cell_type": "markdown",
   "metadata": {},
   "source": [
    "## Build segment tree RMQ"
   ]
  },
  {
   "cell_type": "code",
   "execution_count": 2,
   "metadata": {},
   "outputs": [],
   "source": [
    "def buildTree(a, segtree, l, r, i):\n",
    "    if l == r:\n",
    "        segtree[i] = a[l]\n",
    "        return\n",
    "    m = (l + r) // 2 \n",
    "    buildTree(a, segtree, l, m, 2 * i + 1)\n",
    "    buildTree(a, segtree, m + 1, r, 2 * i + 2)\n",
    "    segtree[i] = min(segtree[2 * i + 1], segtree[2 * i + 2])"
   ]
  },
  {
   "cell_type": "markdown",
   "metadata": {},
   "source": [
    "## Range Minimum Query"
   ]
  },
  {
   "cell_type": "code",
   "execution_count": 9,
   "metadata": {},
   "outputs": [
    {
     "name": "stdout",
     "output_type": "stream",
     "text": [
      "-2\n"
     ]
    }
   ],
   "source": [
    "from math import ceil, log2\n",
    "INF = 10 ** 9\n",
    "\n",
    "def minRange(segtree, l, r, fr, to, index):\n",
    "    if fr <= l and r <= to:\n",
    "        return segtree[index]\n",
    "    if fr > r or to < l:\n",
    "        return INF\n",
    "    m = (l + r) // 2\n",
    "    a = minRange(segtree, l, m, fr, to, 2 * index + 1)\n",
    "    b = minRange(segtree, m + 1, r, fr, to, 2 * index + 2)\n",
    "    return min(a, b)\n",
    "\n",
    "if __name__ == \"__main__\":\n",
    "    a = [5,-7,9,0,-2,8,3,6,4,1]\n",
    "    n = len(a)\n",
    "    h = ceil(log2(n))\n",
    "    sizeTree = 2 * (2 ** h) - 1\n",
    "    segtree = [INF] * sizeTree\n",
    "    buildTree(a, segtree, 0, n - 1, 0)\n",
    "    fromRange = 2\n",
    "    toRange = 7\n",
    "    minValue = minRange(segtree, 0, n - 1, fromRange, toRange, 0)\n",
    "    print(minValue)"
   ]
  },
  {
   "cell_type": "markdown",
   "metadata": {},
   "source": [
    "## Sum of given range"
   ]
  },
  {
   "cell_type": "code",
   "execution_count": 11,
   "metadata": {},
   "outputs": [
    {
     "name": "stdout",
     "output_type": "stream",
     "text": [
      "5\n"
     ]
    }
   ],
   "source": [
    "from math import ceil, log2\n",
    "INF = 10 ** 9\n",
    "\n",
    "def sumRange(segtree, l, r, fr, to, i):\n",
    "    if fr <= l and to >= r:\n",
    "        return segtree[i]\n",
    "    if fr > r or to < l:\n",
    "        return 0\n",
    "    m = (l + r) // 2\n",
    "    return sumRange(segtree, l, m, fr, to, 2 * i + 1) + sumRange(segtree, m + 1, r, fr, to , 2 * i + 2)\n",
    "\n",
    "def buildTree(a, segtree, l, r, i):\n",
    "    if l == r:\n",
    "        segtree[i] = a[l]\n",
    "        return\n",
    "    m = (l + r) // 2 \n",
    "    buildTree(a, segtree, l, m, 2 * i + 1)\n",
    "    buildTree(a, segtree, m + 1, r, 2 * i + 2)\n",
    "    segtree[i] = min(segtree[2 * i + 1], segtree[2 * i + 2])\n",
    "\n",
    "if __name__ == \"__main__\":\n",
    "    a = [5,-7,9,0,-2,8,3,6,4,1]\n",
    "    n = len(a)\n",
    "    h = ceil(log2(n))\n",
    "    sizeTree = 2 * (2 ** h) - 1\n",
    "    segtree = [INF] * sizeTree\n",
    "    lazy = [0] * sizeTree\n",
    "    buildTree(a, segtree, 0, n - 1, 0)\n",
    "    fr = 3\n",
    "    to = 8\n",
    "    res = sumRange(segtree, 0, n - 1, fr, to, 0)\n",
    "    print(res)"
   ]
  },
  {
   "cell_type": "markdown",
   "metadata": {},
   "source": [
    "## Update RMQ"
   ]
  },
  {
   "cell_type": "code",
   "execution_count": 14,
   "metadata": {},
   "outputs": [
    {
     "name": "stdout",
     "output_type": "stream",
     "text": [
      "Before update\n",
      "Range minimum query:  -2\n",
      "After update\n",
      "Range minimum query:  0\n"
     ]
    }
   ],
   "source": [
    "from math import ceil, log2\n",
    "INF = 10 ** 9\n",
    "\n",
    "def updateQuery(segtree, a, l, r, i, pos, v):\n",
    "    if pos < l or r < pos:\n",
    "        return\n",
    "    if l == r:\n",
    "        a[pos] = v\n",
    "        segtree[i] = v\n",
    "        return\n",
    "    m = (l + r) // 2\n",
    "    if pos <= m:\n",
    "        updateQuery(segtree, a, l, m, 2*i+1, pos, v)\n",
    "    else: # if pos > mid\n",
    "        updateQuery(segtree, a, m + 1, r, 2*i+2, pos, v)\n",
    "    segtree[i] = min(segtree[2*i+1], segtree[2*i+2])\n",
    "    \n",
    "def minRange(segtree, l, r, fr, to, index):\n",
    "    if fr <= l and r <= to:\n",
    "        return segtree[index]\n",
    "    if fr > r or to < l:\n",
    "        return INF\n",
    "    m = (l + r) // 2\n",
    "    a = minRange(segtree, l, m, fr, to, 2 * index + 1)\n",
    "    b = minRange(segtree, m + 1, r, fr, to, 2 * index + 2)\n",
    "    return min(a, b)\n",
    "\n",
    "def buildTree(a, segtree, l, r, i):\n",
    "    if l == r:\n",
    "        segtree[i] = a[l]\n",
    "        return\n",
    "    m = (l + r) // 2 \n",
    "    buildTree(a, segtree, l, m, 2 * i + 1)\n",
    "    buildTree(a, segtree, m + 1, r, 2 * i + 2)\n",
    "    segtree[i] = min(segtree[2 * i + 1], segtree[2 * i + 2])\n",
    "    \n",
    "if __name__ == \"__main__\":\n",
    "    a = [5,-7,9,0,-2,8,3,6,4,1]\n",
    "    n = len(a)\n",
    "    h = ceil(log2(n))\n",
    "    sizeTree = 2 * (2 ** h) - 1\n",
    "    segtree = [INF] * sizeTree\n",
    "    \n",
    "    buildTree(a, segtree, 0, n - 1, 0)\n",
    "    \n",
    "    fr = 2\n",
    "    to = 7\n",
    "    minValue = minRange(segtree, 0, n - 1, fromRange, toRange, 0)\n",
    "    \n",
    "    print(\"Before update\")\n",
    "    print(\"Range minimum query: \", minValue)\n",
    "    \n",
    "    # Position update\n",
    "    pos = 4\n",
    "    # Value update\n",
    "    v = 9\n",
    "    updateQuery(segtree, a, 0, n - 1, 0, pos, v)\n",
    "    minValue = minRange(segtree, 0, n - 1, fromRange, toRange, 0)\n",
    "    print(\"After update\")\n",
    "    print(\"Range minimum query: \", minValue)"
   ]
  },
  {
   "cell_type": "markdown",
   "metadata": {},
   "source": [
    "## Update SGR"
   ]
  },
  {
   "cell_type": "code",
   "execution_count": 15,
   "metadata": {},
   "outputs": [],
   "source": [
    "def updateQuery(segtree, a, l, r, i, pos, v):\n",
    "    if pos < l or right < pos:\n",
    "        return\n",
    "    if l == r:\n",
    "        a[pos] = value\n",
    "        segtree[index] = value\n",
    "        return\n",
    "    m = (l + r) // 2\n",
    "    if pos <= mid:\n",
    "        updateQuery(segtree, a, l, m, 2*i+1, pos, v)\n",
    "    else:\n",
    "        updateQuery(segtree, a, m+1, r, 2*i+2, pos, v)\n",
    "    segtree[i] = segtree[2*i+1] + segtree[2*i+2]\n",
    "    \n",
    "def sumRange(segtree, l, r, fr, to, i):\n",
    "    if fr <= l and to >= r:\n",
    "        return segtree[i]\n",
    "    if fr > r or to < l:\n",
    "        return 0\n",
    "    m = (l + r) // 2\n",
    "    return sumRange(segtree, l, m, fr, to, 2*i+1) + sumRange(segtree, m + 1, r, fr, to , 2*i+2)"
   ]
  },
  {
   "cell_type": "markdown",
   "metadata": {},
   "source": [
    "## Lazy propagation - RMQ"
   ]
  },
  {
   "cell_type": "code",
   "execution_count": 17,
   "metadata": {},
   "outputs": [
    {
     "name": "stdout",
     "output_type": "stream",
     "text": [
      "-7\n"
     ]
    }
   ],
   "source": [
    "from math import ceil, log2\n",
    "INF = 10 ** 9\n",
    "\n",
    "def updateQuery_minRangeLazy(segtree, lazy, l, r, fr, to, delta, i):\n",
    "    if l > r:\n",
    "        return\n",
    "    if lazy[i] != 0:\n",
    "        segtree[i] += lazy[i]\n",
    "        if l != r:\n",
    "            lazy[2*i+1] += lazy[i]\n",
    "            lazy[2*i+2] += lazy[i]\n",
    "        lazy[i] = 0\n",
    "    # no overlap condition\n",
    "    if fr > r or to < l:\n",
    "        return\n",
    "    # total overlap condition\n",
    "    if fr <= l and r <= to:\n",
    "        segtree[i] += delta\n",
    "        if l != r:\n",
    "            lazy[2*i+1] += delta\n",
    "            lazy[2*i+1] += delta\n",
    "        return\n",
    "    # otherwise partial overlap so look both l and r\n",
    "    m = (l + r) //2\n",
    "    updateQuery_minRangeLazy(segtree, lazy, l, m, fr, to, delta, 2*i+1)\n",
    "    updateQuery_minRangeLazy(segtree, lazy, m+1, r, fr, to, delta, 2*i+2)\n",
    "    segtree[i] = min(segtree[2*i+1], segtree[2*i+2])\n",
    "\n",
    "def buildTree(a, segtree, l, r, i):\n",
    "    if l == r:\n",
    "        segtree[i] = a[l]\n",
    "        return\n",
    "    m = (l + r) // 2 \n",
    "    buildTree(a, segtree, l, m, 2 * i + 1)\n",
    "    buildTree(a, segtree, m + 1, r, 2 * i + 2)\n",
    "    segtree[i] = min(segtree[2 * i + 1], segtree[2 * i + 2])\n",
    "    \n",
    "def minRangeLazy(segtree, lazy, l, r, fr, to, i):\n",
    "    if l > r:\n",
    "        return INF\n",
    "    if lazy[i] != 0:\n",
    "        segtree[i] += lazy[i]\n",
    "        if l != r: # not a leaf node\n",
    "            lazy[2*i+1] += lazy[i]\n",
    "            lazy[2*i+2] += lazy[i]\n",
    "        lazy[i] = 0\n",
    "    # no overlap\n",
    "    if fr > r or to < l:\n",
    "        return INF\n",
    "    # total overlap\n",
    "    if fr <= l and to >= r:\n",
    "        return segtree[i]\n",
    "    # partial overlap\n",
    "    m = (l + r) // 2\n",
    "    return min(minRangeLazy(segtree, lazy, m+1, r, fr, to, 2*i+2), minRangeLazy(segtree, lazy, l, m, fr, to, 2*i+1))\n",
    "\n",
    "if __name__ == \"__main__\":\n",
    "    a = [5,-7,9,0,-2,8,3,6,4,1]\n",
    "    n = len(a)\n",
    "    h = ceil(log2(n))\n",
    "    sizeTree = 2 * (2 ** h) - 1\n",
    "    segtree = [INF] * sizeTree\n",
    "    \n",
    "    lazy = [0] * sizeTree\n",
    "    \n",
    "    buildTree(a, segtree, 0, n - 1, 0)\n",
    "    \n",
    "    fr = 3\n",
    "    to = 8\n",
    "    # increase [3, 8] by 2\n",
    "    delta = 2\n",
    "    updateQuery_minRangeLazy(segtree, lazy, 0, n - 1, fr, to, delta, 0)\n",
    "    \n",
    "    fr = 1\n",
    "    to = 6\n",
    "    res = minRangeLazy(segtree, lazy, 0, n - 1, fr, to, 0)\n",
    "    print(res)"
   ]
  },
  {
   "cell_type": "markdown",
   "metadata": {},
   "source": [
    "## Lazy propagation - SGR"
   ]
  },
  {
   "cell_type": "code",
   "execution_count": 18,
   "metadata": {},
   "outputs": [],
   "source": [
    "def updateQuery_sumQueryLazy(segtree, lazy, l, r, fr, to, delta, i):\n",
    "    if l > r:\n",
    "        return\n",
    "    if lazy[i] != 0:\n",
    "        segtree[i] += lazy[i] * (r - l + 1)\n",
    "        if l != r:\n",
    "            lazy[2*i+1] += lazy[i]\n",
    "            lazy[2*i+2] += lazy[i]\n",
    "    # no overlap condition\n",
    "    if fr > r or to < l:\n",
    "        return\n",
    "    # total overlap condition\n",
    "    if fr <= l and r <= to:\n",
    "        segtree[i] += delta * (r - l + 1)\n",
    "        if l != r:\n",
    "            lazy[2*i+1] += delta\n",
    "            lazy[2*i+1] += delta\n",
    "        return\n",
    "    # otherwise partial overlap so look both l and r\n",
    "    m = (l + r) //2\n",
    "    updateQuery_sumQueryLazy(segtree, lazy, l, m, fr, to, delta, 2*i+1)\n",
    "    updateQuery_sumQueryLazy(segtree, lazy, m+1, r, fr, to, delta, 2*i+2)\n",
    "    segtree[i] = segtree[2*i+1] + segtree[2*i+2]\n",
    "\n",
    "def sumQueryLazy(segtree, lazy, l, r, fr, to, i):\n",
    "    if l > r:\n",
    "        return INF\n",
    "    if lazy[i] != 0:\n",
    "        segtree[i] += lazy[i] * (r - l + 1)\n",
    "        if l != r: # not a leaf node\n",
    "            lazy[2*i+1] += lazy[i]\n",
    "            lazy[2*i+2] += lazy[i]\n",
    "        lazy[i] = 0\n",
    "    # no overlap\n",
    "    if fr > r or to < l:\n",
    "        return 0\n",
    "    # total overlap\n",
    "    if fr <= l and to >= r:\n",
    "        return segtree[i]\n",
    "    # partial overlap\n",
    "    m = (l + r) // 2\n",
    "    return sumQueryLazy(segtree, lazy, m+1, r, fr, to, 2*i+2) + sumQueryLazy(segtree, lazy, l, m, fr, to, 2*i+1)"
   ]
  }
 ],
 "metadata": {
  "kernelspec": {
   "display_name": "Python 3",
   "language": "python",
   "name": "python3"
  },
  "language_info": {
   "codemirror_mode": {
    "name": "ipython",
    "version": 3
   },
   "file_extension": ".py",
   "mimetype": "text/x-python",
   "name": "python",
   "nbconvert_exporter": "python",
   "pygments_lexer": "ipython3",
   "version": "3.8.0"
  }
 },
 "nbformat": 4,
 "nbformat_minor": 4
}
