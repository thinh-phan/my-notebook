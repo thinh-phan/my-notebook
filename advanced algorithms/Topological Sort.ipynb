{
 "cells": [
  {
   "cell_type": "markdown",
   "metadata": {},
   "source": [
    "# Topological Sort"
   ]
  },
  {
   "cell_type": "markdown",
   "metadata": {},
   "source": [
    "## Topological sort DFS"
   ]
  },
  {
   "cell_type": "code",
   "execution_count": null,
   "metadata": {},
   "outputs": [],
   "source": [
    "def dfs(u, graph, visited, result):\n",
    "    visited[u] = True\n",
    "    for v in graph[u]:\n",
    "        if not visited[v]:\n",
    "            dfs(v, graph, visited, result)\n",
    "    result.append(u)\n",
    "\n",
    "def topologicalSort(graph, result):\n",
    "    visited = [False] * V\n",
    "    for i in range(V):\n",
    "        if not visited[i]:\n",
    "            dfs(i, graph, visited, result)\n",
    "    result.reverse\n",
    "    \n",
    "if __name__ == \"__main__\":\n",
    "    V, E = map(int, input().split())\n",
    "    graph = [[] for i in range(V)]\n",
    "    result = []\n",
    "    for i in range(E):\n",
    "        u, v = map(int, input(). split())\n",
    "        graph[u].append(v)\n",
    "    topologicalSort(graph, result)\n",
    "    print('Topological sort of graph:')\n",
    "    for i in range(V):\n",
    "        print(result[i], end = ' ')"
   ]
  },
  {
   "cell_type": "markdown",
   "metadata": {},
   "source": [
    "## Kahn's algorithm"
   ]
  },
  {
   "cell_type": "code",
   "execution_count": null,
   "metadata": {},
   "outputs": [],
   "source": [
    "import queue\n",
    "\n",
    "def topologicalSort(graph, result):\n",
    "    indegree = [0] * V\n",
    "    zero_indegree = queue.Queue()\n",
    "    for u in range(V):\n",
    "        for v in graph[u]:\n",
    "            indegree[v] += 1\n",
    "    for i in range(V):\n",
    "        if indegree[i] == 0:\n",
    "            zero_indegree.put(i)\n",
    "    while not zero_indegree.empty():\n",
    "        u = zero_indegree.get()\n",
    "        result.append(u)\n",
    "        for v in graph[u]:\n",
    "            indegree[v] -= 1\n",
    "            if indegree[v] == 0:\n",
    "                zero_indegree.put(v)\n",
    "    for i in range(V):\n",
    "        if indegree[i] != 0:\n",
    "            return False\n",
    "    return True\n",
    "\n",
    "if __name__ == \"__main__\":\n",
    "    V, E = map(int, input().split())\n",
    "    graph = [[] for i in range(V)]\n",
    "    result = []\n",
    "    for i in range(E):\n",
    "        u, v = map(int, input(). split())\n",
    "        graph[u].append(v)\n",
    "    if(topologicalSort(graph, result)):\n",
    "        print('Topological sort of graph:')\n",
    "        for i in range(V):\n",
    "            print(result[i], end = ' ')\n",
    "    else:\n",
    "        print(\"No result\")"
   ]
  }
 ],
 "metadata": {
  "kernelspec": {
   "display_name": "Python 3",
   "language": "python",
   "name": "python3"
  },
  "language_info": {
   "codemirror_mode": {
    "name": "ipython",
    "version": 3
   },
   "file_extension": ".py",
   "mimetype": "text/x-python",
   "name": "python",
   "nbconvert_exporter": "python",
   "pygments_lexer": "ipython3",
   "version": "3.8.0"
  }
 },
 "nbformat": 4,
 "nbformat_minor": 4
}
