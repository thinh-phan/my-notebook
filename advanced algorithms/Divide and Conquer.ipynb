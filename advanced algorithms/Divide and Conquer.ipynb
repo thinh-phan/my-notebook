{
 "cells": [
  {
   "cell_type": "markdown",
   "metadata": {},
   "source": [
    "# Divide and Conquer"
   ]
  },
  {
   "cell_type": "markdown",
   "metadata": {},
   "source": [
    "## Closest pair of points"
   ]
  },
  {
   "cell_type": "code",
   "execution_count": 12,
   "metadata": {},
   "outputs": [
    {
     "name": "stdin",
     "output_type": "stream",
     "text": [
      " 9\n",
      " 1 2\n",
      " -4 -1\n",
      " -1 1\n",
      " 6 5\n",
      " 2 -4\n",
      " -2 -3\n",
      " 4 -1\n",
      " -5 4\n",
      " 3 4\n"
     ]
    },
    {
     "name": "stdout",
     "output_type": "stream",
     "text": [
      "2.23606797749979\n"
     ]
    }
   ],
   "source": [
    "INF = 1e9\n",
    "\n",
    "class Point:\n",
    "    def __init__(self, x, y):\n",
    "        self.x = x\n",
    "        self.y = y\n",
    " \n",
    " \n",
    "def distance(p1, p2):\n",
    "    x = p1.x - p2.x\n",
    "    y = p1.y - p2.y\n",
    "    return (x * x + y * y) ** 0.5\n",
    " \n",
    "def brute_force(point_set, left, right):\n",
    "    min_dist = INF\n",
    "    for i in range(left, right):\n",
    "        for j in range(i + 1, right):\n",
    "            min_dist = min(min_dist, distance(point_set[i], point_set[j]))\n",
    "    return min_dist\n",
    " \n",
    "def strip_closest(point_set, left, right, mid, dist_min):\n",
    "    point_mid = point_set[mid]\n",
    "    splitted_points = []\n",
    "    for i in range(left, right):\n",
    "        if abs(point_set[i].x - point_mid.x) <= dist_min:\n",
    "            splitted_points.append(point_set[i])\n",
    "    splitted_points.sort(key=lambda p: p.y)\n",
    " \n",
    "    smallest = INF\n",
    "    l = len(splitted_points)\n",
    "    for i in range(0, l):\n",
    "        for j in range(i + 1, l):\n",
    "            if not (splitted_points[j].y - splitted_points[i].y) < dist_min:\n",
    "                break\n",
    "            d = distance(splitted_points[i], splitted_points[j])\n",
    "            smallest = min(smallest, d)\n",
    "    return smallest\n",
    "\n",
    "def closest_util(point_set, left, right):\n",
    "    if right - left <= 3:\n",
    "        return brute_force(point_set, left, right)\n",
    "    mid = (right + left) // 2\n",
    "    dist_left = closest_util(point_set, left, mid)\n",
    "    dist_right = closest_util(point_set, mid + 1, right)\n",
    "    dist_min = min(dist_left, dist_right)\n",
    "    return min(dist_min, strip_closest(point_set, left, right, mid, dist_min))\n",
    "\n",
    "if __name__ == '__main__':\n",
    "    while True:\n",
    "        n = int(input())\n",
    "        if n == 0:\n",
    "            break\n",
    "        point_set = []\n",
    "        for i in range(n):\n",
    "            x, y = map(float, input().split())\n",
    "            point_set.append(Point(x, y))\n",
    " \n",
    "        point_set.sort(key=lambda p: p.x)\n",
    "        ans = closest_util(point_set, 0, n)\n",
    "        if ans < 10000:\n",
    "            print('%.4f' % ans)\n",
    "        else:\n",
    "            print('INFINITY')"
   ]
  },
  {
   "cell_type": "markdown",
   "metadata": {},
   "source": [
    "## Maximum subarray sum"
   ]
  },
  {
   "cell_type": "code",
   "execution_count": 1,
   "metadata": {},
   "outputs": [
    {
     "name": "stdin",
     "output_type": "stream",
     "text": [
      " 10\n",
      " -3 -8 7 -2 -3 5 -4 6 -9 2\n"
     ]
    },
    {
     "name": "stdout",
     "output_type": "stream",
     "text": [
      "Maximum subarray sum is: 9\n"
     ]
    }
   ],
   "source": [
    "def maxMidSum(a, l, m, r):\n",
    "    sum = 0\n",
    "    left_part_sum = -10**9\n",
    "    for i in range(m, l - 1, -1):\n",
    "        sum += a[i]\n",
    "        if sum > left_part_sum:\n",
    "            left_part_sum = sum\n",
    "    sum = 0\n",
    "    right_part_sum = -10**9\n",
    "    for i in range(m + 1, r + 1):\n",
    "        sum += a[i]\n",
    "        if sum > right_part_sum:\n",
    "            right_part_sum = sum\n",
    "    return left_part_sum + right_part_sum\n",
    "\n",
    "def maxSubArraySum(a, l, r):\n",
    "    if l == r:\n",
    "        return a[l]\n",
    "    m = (l + r) // 2\n",
    "    max_sum_left = maxSubArraySum(a, l, m)\n",
    "    max_sum_right = maxSubArraySum(a, m + 1, r)\n",
    "    max_sum_mid = maxMidSum(a, l, m, r)\n",
    "    return max(max_sum_left, max_sum_right, max_sum_mid)\n",
    "\n",
    "if __name__ == '__main__':\n",
    "    n = int(input())\n",
    "    a = list(map(int, input().split()))\n",
    "    print(\"Maximum subarray sum is: {}\".format(maxSubArraySum(a, 0, n - 1)))"
   ]
  },
  {
   "cell_type": "markdown",
   "metadata": {},
   "source": [
    "## Maximum Subarray(Kadane's algorithm)"
   ]
  },
  {
   "cell_type": "code",
   "execution_count": 5,
   "metadata": {},
   "outputs": [
    {
     "name": "stdin",
     "output_type": "stream",
     "text": [
      " 10\n",
      "  -3 -8 7 -2 -3 5 -4 6 -9 2\n"
     ]
    },
    {
     "name": "stdout",
     "output_type": "stream",
     "text": [
      "9\n"
     ]
    }
   ],
   "source": [
    "def maxSubArray1(a):\n",
    "    res = a[0]\n",
    "    max_ending_here = 0\n",
    "    start = end = s = 0\n",
    "    for i in range(len(a)):\n",
    "        max_ending_here += a[i]\n",
    "        if res < max_ending_here:\n",
    "            res = max_ending_here\n",
    "            start = s\n",
    "            end = i\n",
    "        if max_ending_here < 0:\n",
    "            max_ending_here = 0\n",
    "            s = i + 1\n",
    "    print(\"Maximum Subarray Sum:\", res)\n",
    "    for i in range(start, end + 1):\n",
    "        print(a[i], end = ' ')\n",
    "        \n",
    "def maxSubArray2(nums):\n",
    "    sum = res = nums[0]\n",
    "    for i in range(1,len(nums)):\n",
    "        sum = max(nums[i], sum+nums[i])\n",
    "        res = max(res, sum)\n",
    "    return res\n",
    "\n",
    "if __name__ == '__main__':\n",
    "    n = int(input())\n",
    "    a = list(map(int, input().split()))\n",
    "    # print(maxSubArray1(a))\n",
    "    print(maxSubArray2(a))"
   ]
  }
 ],
 "metadata": {
  "kernelspec": {
   "display_name": "Python 3",
   "language": "python",
   "name": "python3"
  },
  "language_info": {
   "codemirror_mode": {
    "name": "ipython",
    "version": 3
   },
   "file_extension": ".py",
   "mimetype": "text/x-python",
   "name": "python",
   "nbconvert_exporter": "python",
   "pygments_lexer": "ipython3",
   "version": "3.8.0"
  }
 },
 "nbformat": 4,
 "nbformat_minor": 4
}
