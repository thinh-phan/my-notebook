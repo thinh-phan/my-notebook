{
 "cells": [
  {
   "cell_type": "markdown",
   "metadata": {},
   "source": [
    "# Dynamic Programming IV"
   ]
  },
  {
   "cell_type": "markdown",
   "metadata": {},
   "source": [
    "## Knapsack problem"
   ]
  },
  {
   "cell_type": "code",
   "execution_count": 4,
   "metadata": {},
   "outputs": [
    {
     "name": "stdout",
     "output_type": "stream",
     "text": [
      "List Items:\n",
      "[10, 4]\n",
      "[2, 2]\n",
      "[2, 1]\n",
      "[1, 1]\n",
      "15\n"
     ]
    }
   ],
   "source": [
    "class Item:\n",
    "    def __init__(self, profit = 0, weight = 0):\n",
    "        self.profit = profit\n",
    "        self.weight = weight\n",
    "        \n",
    "K = []\n",
    "\n",
    "def Knapsack(items, W):\n",
    "    global K\n",
    "    K = [[0] * (W + 1) for i in items]\n",
    "    for i in range(1, len(items)):\n",
    "        for j in range(W + 1):\n",
    "            if items[i].weight > j:\n",
    "                K[i][j] = K[i - 1][j]\n",
    "            else:\n",
    "                temp1 = items[i].profit + K[i - 1][j - items[i].weight]\n",
    "                temp2 = K[i - 1][j]\n",
    "                K[i][j] = max(temp1, temp2)\n",
    "    return K[len(items) - 1][W]\n",
    "\n",
    "def printItems(items, W):\n",
    "    print('List Items:')\n",
    "    for i in range(len(items) - 1, 0, - 1):\n",
    "        if K[i][W] != K[i - 1][W]:\n",
    "            print('[', items[i].profit, ', ', items[i].weight, ']', sep = '')\n",
    "            W -= items[i].weight\n",
    "\n",
    "if __name__ == \"__main__\":\n",
    "    items = [Item(0, 0), Item(1, 1), Item(2, 1), Item(2, 2), Item(4, 6), Item(10, 4)]\n",
    "    W = 10\n",
    "    res = Knapsack(items, W)\n",
    "    printItems(items, W)\n",
    "    print(res)"
   ]
  },
  {
   "cell_type": "markdown",
   "metadata": {},
   "source": [
    "## Multiple Knapsack"
   ]
  },
  {
   "cell_type": "code",
   "execution_count": 7,
   "metadata": {},
   "outputs": [
    {
     "name": "stdout",
     "output_type": "stream",
     "text": [
      "24\n"
     ]
    }
   ],
   "source": [
    "class Item:\n",
    "    def __init__(self, profit = 0, weight = 0):\n",
    "        self.profit = profit\n",
    "        self.weight = weight\n",
    "        \n",
    "K = []\n",
    "\n",
    "def unboundedKnapsack(items, W):\n",
    "    global K\n",
    "    K = [0] * (W + 1)\n",
    "    for i in range(0, W + 1):\n",
    "        for j in range(len(items)):\n",
    "            if items[j].weight <= i:\n",
    "                K[i] = max(K[i], items[j].profit + K[i - items[j].weight])\n",
    "    return K[W]\n",
    "\n",
    "if __name__ == \"__main__\":\n",
    "    items = [Item(1, 1), Item(2, 1), Item(2, 2), Item(4, 6), Item(10, 4)]\n",
    "    W = 10\n",
    "    res = unboundedKnapsack(items, W)\n",
    "    print(res)"
   ]
  },
  {
   "cell_type": "markdown",
   "metadata": {},
   "source": [
    "## Fractional Knapsack"
   ]
  },
  {
   "cell_type": "code",
   "execution_count": 8,
   "metadata": {},
   "outputs": [
    {
     "name": "stdout",
     "output_type": "stream",
     "text": [
      "Maximum value:  16.333333333333332\n"
     ]
    }
   ],
   "source": [
    "class Item:\n",
    "    def __init__(self, profit = 0, weight = 0):\n",
    "        self.profit = profit\n",
    "        self.weight = weight\n",
    "    \n",
    "    def __lt__(self, other):\n",
    "        r1 = self.profit / self.weight\n",
    "        r2 = other.profit / other.weight\n",
    "        return r1 > r2\n",
    "\n",
    "def fractionalKnapsack(items, W):\n",
    "    items.sort()\n",
    "    curWeight = 0\n",
    "    finalProfit = 0\n",
    "    for i in range(len(items)):\n",
    "        if curWeight + items[i].weight <= W:\n",
    "            curWeight += items[i].weight\n",
    "            finalProfit += items[i].profit\n",
    "        else:\n",
    "            reWeight = W - curWeight\n",
    "            finalProfit += items[i].profit * (reWeight / items[i].weight)\n",
    "            break\n",
    "    return finalProfit\n",
    "\n",
    "if __name__ == \"__main__\":\n",
    "    items = [Item(1, 1), Item(2, 1), Item(2, 2), Item(4, 6), Item(10, 4)]\n",
    "    W = 10\n",
    "    res = fractionalKnapsack(items, W)\n",
    "    print('Maximum value: ', res)"
   ]
  }
 ],
 "metadata": {
  "kernelspec": {
   "display_name": "Python 3",
   "language": "python",
   "name": "python3"
  },
  "language_info": {
   "codemirror_mode": {
    "name": "ipython",
    "version": 3
   },
   "file_extension": ".py",
   "mimetype": "text/x-python",
   "name": "python",
   "nbconvert_exporter": "python",
   "pygments_lexer": "ipython3",
   "version": "3.8.0"
  }
 },
 "nbformat": 4,
 "nbformat_minor": 4
}
