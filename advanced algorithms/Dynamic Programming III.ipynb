{
 "cells": [
  {
   "cell_type": "markdown",
   "metadata": {},
   "source": [
    "# Dynamic Programming III"
   ]
  },
  {
   "cell_type": "markdown",
   "metadata": {},
   "source": [
    "## Longest increasing subsequence"
   ]
  },
  {
   "cell_type": "code",
   "execution_count": 4,
   "metadata": {},
   "outputs": [
    {
     "name": "stdout",
     "output_type": "stream",
     "text": [
      "Length of LIS is:  6\n"
     ]
    }
   ],
   "source": [
    "def LIS(a):\n",
    "    global last, res, path\n",
    "    length = 0\n",
    "    path = [-1] * len(a)\n",
    "    res = [1] * len(a)\n",
    "    \n",
    "    for i in range(1, len(a)):\n",
    "        for j in range(i):\n",
    "            if a[i] > a[j] and res[i] < res[j] + 1:\n",
    "                res[i] = res[j] + 1\n",
    "                path[i] = j\n",
    "    for i in range(len(a)):\n",
    "        if length < res[i]:\n",
    "            last = i\n",
    "            length = res[i]\n",
    "    \n",
    "    return length\n",
    "\n",
    "if __name__ == \"__main__\":\n",
    "    a = [2,5,12,3,10,6,8,14,4,11,7,15]\n",
    "    print('Length of LIS is: ', LIS(a))"
   ]
  },
  {
   "cell_type": "markdown",
   "metadata": {},
   "source": [
    "## Longest increasing subsequence(Binary Search)"
   ]
  },
  {
   "cell_type": "code",
   "execution_count": 6,
   "metadata": {},
   "outputs": [
    {
     "name": "stdout",
     "output_type": "stream",
     "text": [
      "Length of LIS is:  6\n",
      "2 3 6 8 11 15 "
     ]
    }
   ],
   "source": [
    "res = []\n",
    "path = []\n",
    "def printLIS(a, length):\n",
    "    b = []\n",
    "    i = res[length - 1]\n",
    "    while i >= 0:\n",
    "        b.append(a[i])\n",
    "        i = path[i]\n",
    "    for i in range(len(b) - 1, -1, -1):\n",
    "        print(b[i], end = ' ')\n",
    "\n",
    "def lowerBound(a, sub, n, x):\n",
    "    l = 0\n",
    "    r = n\n",
    "    pos = r\n",
    "    while l < r:\n",
    "        m = l + (r - l) // 2\n",
    "        index = sub[m]\n",
    "        if a[index] >= x:\n",
    "            pos = m\n",
    "            r = m\n",
    "        else:\n",
    "            l = m + 1\n",
    "    return pos\n",
    "\n",
    "def LIS(a):\n",
    "    global path\n",
    "    length = 1\n",
    "    path = [-1] * len(a)\n",
    "    res.append(0)\n",
    "    for i in range(1, len(a)):\n",
    "        if a[i] <= a[res[0]]:\n",
    "            res[0] = i\n",
    "        elif a[i] > a[res[length - 1]]:\n",
    "            path[i] = res[length - 1]\n",
    "            res.append(i)\n",
    "            length += 1\n",
    "        else:\n",
    "            pos = lowerBound(a, res, length, a[i])\n",
    "            path[i] = res[pos - 1]\n",
    "            res[pos] = i\n",
    "    return length\n",
    "\n",
    "if __name__ == \"__main__\":\n",
    "    a = [2,5,12,3,10,6,8,14,4,11,7,15]\n",
    "    length = LIS(a)\n",
    "    print('Length of LIS is: ', length)\n",
    "    printLIS(a, length)"
   ]
  }
 ],
 "metadata": {
  "kernelspec": {
   "display_name": "Python 3",
   "language": "python",
   "name": "python3"
  },
  "language_info": {
   "codemirror_mode": {
    "name": "ipython",
    "version": 3
   },
   "file_extension": ".py",
   "mimetype": "text/x-python",
   "name": "python",
   "nbconvert_exporter": "python",
   "pygments_lexer": "ipython3",
   "version": "3.8.0"
  }
 },
 "nbformat": 4,
 "nbformat_minor": 4
}
