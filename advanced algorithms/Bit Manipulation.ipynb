{
 "cells": [
  {
   "cell_type": "markdown",
   "metadata": {},
   "source": [
    "# Bit Manipulation"
   ]
  },
  {
   "cell_type": "markdown",
   "metadata": {},
   "source": [
    "| Tên phép toán | Ký hiệu |\n",
    "| --- | --- |\n",
    "| Lấy bit tại vị trí bất kì | (X >> k) & 1 |\n",
    "| Gán giá trị bit 0 tại vị trí bất kỳ | X & (~(1 << k)) |\n",
    "| Gán giá trị bit 1 tại vị trí bất kỳ | X or (1 << k) |\n",
    "| Đảo giá trị bit tại vị trí bất kỳ | X ^ (1 << k) |"
   ]
  },
  {
   "cell_type": "markdown",
   "metadata": {},
   "source": [
    "## Reverse bits"
   ]
  },
  {
   "cell_type": "code",
   "execution_count": null,
   "metadata": {},
   "outputs": [],
   "source": [
    "def bit_reversal(n):\n",
    "    s = 8\n",
    "    rev = 0\n",
    "    while n != 0:\n",
    "        # Shift left\n",
    "        rev <<= 1\n",
    "        # If current bit is '1'\n",
    "        if n & 1 == 1:\n",
    "            rev ^= 1 # XOR 1\n",
    "        # Shift right\n",
    "        n >>= 1\n",
    "        s -= 1\n",
    "    if s > 0:\n",
    "        rev <<= s\n",
    "    return rev\n",
    "\n",
    "if __name__ == \"__main__\":\n",
    "    n = 38\n",
    "    rev = bit_reversal(n)\n",
    "    print(n, ' (', bin(n), ') ', sep = '')\n",
    "    print(rev, ' (', bin(rev), ') ', sep = '')"
   ]
  },
  {
   "cell_type": "markdown",
   "metadata": {},
   "source": [
    "## Find the missing number"
   ]
  },
  {
   "cell_type": "code",
   "execution_count": null,
   "metadata": {},
   "outputs": [],
   "source": [
    "def getMissingNo(a, n):\n",
    "    xor = 1\n",
    "    xor_array = a[0]\n",
    "    for i in range(2, n + 2):\n",
    "        xor = xor ^ i\n",
    "    for i in range(1, n):\n",
    "        xor_array = xor_array ^ a[i]\n",
    "    return xor ^ xor_array\n",
    "\n",
    "if __name__ == \"__main__\":\n",
    "    a = [1,2,3,4,6,7,8,9]\n",
    "    result = getMissingNo(a, 8)\n",
    "    print(result)"
   ]
  },
  {
   "cell_type": "markdown",
   "metadata": {},
   "source": [
    "## Improved FMN "
   ]
  },
  {
   "cell_type": "code",
   "execution_count": null,
   "metadata": {},
   "outputs": [],
   "source": [
    "def computeXOR(n):\n",
    "    # If n is a multiple of 4\n",
    "    if n % 4 == 0:\n",
    "        return n\n",
    "    # If n % 4 gives remainder 1\n",
    "    if n % 4 == 1:\n",
    "        return 1\n",
    "    # If n % 4 gives remainder 2\n",
    "    if n % 4 == 2:\n",
    "        return n + 1\n",
    "    # If n % 4 gives remainder 3\n",
    "    return 0\n",
    "\n",
    "def getMissingNo(a, n):\n",
    "    xor = computeXOR(n + 1)\n",
    "    xor_array = a[0]\n",
    "    for i in range(1, n):\n",
    "        xor_array = xor_array ^ a[i]\n",
    "    return xor ^ xor_array\n",
    "\n",
    "if __name__ == \"__main__\":\n",
    "    a = [1,2,3,4,6,7,8,9]\n",
    "    result = getMissingNo(a, 8)\n",
    "    print(result)"
   ]
  }
 ],
 "metadata": {
  "kernelspec": {
   "display_name": "Python 3",
   "language": "python",
   "name": "python3"
  },
  "language_info": {
   "codemirror_mode": {
    "name": "ipython",
    "version": 3
   },
   "file_extension": ".py",
   "mimetype": "text/x-python",
   "name": "python",
   "nbconvert_exporter": "python",
   "pygments_lexer": "ipython3",
   "version": "3.8.0"
  }
 },
 "nbformat": 4,
 "nbformat_minor": 4
}
