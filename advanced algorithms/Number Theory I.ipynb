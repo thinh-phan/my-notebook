{
 "cells": [
  {
   "cell_type": "markdown",
   "metadata": {},
   "source": [
    "# Number Theory I"
   ]
  },
  {
   "cell_type": "markdown",
   "metadata": {},
   "source": [
    "| Tính chất phép modulo | Công thức |\n",
    "| --- | --- |\n",
    "| Phép cộng | (a + b) % m = ((a % m) + (b % m)) % m |\n",
    "| Phép trừ | (a - b) % m = ((a % m) - (b % m)) % m |\n",
    "| Phép nhân | (a * b) % m = ((a % m) * (b % m)) % m |\n",
    "| Phép chia | (a / b) % m = (a * b^(-1)) % m |"
   ]
  },
  {
   "cell_type": "markdown",
   "metadata": {},
   "source": [
    "$$\n",
    "50^{100} mod \\ 13\n",
    "$$\n",
    "99 phép nhân"
   ]
  },
  {
   "cell_type": "code",
   "execution_count": null,
   "metadata": {},
   "outputs": [],
   "source": [
    "def modularExponentiation(a, b, m):\n",
    "    result = 1\n",
    "    for i in range(1, b + 1):\n",
    "        result *= a\n",
    "        result %= m\n",
    "    return result"
   ]
  },
  {
   "cell_type": "markdown",
   "metadata": {},
   "source": [
    "Độ phức tạp: O(b)"
   ]
  },
  {
   "cell_type": "markdown",
   "metadata": {},
   "source": [
    "**Phương pháp cải tiến:**\n",
    "\n",
    "Bước 1: Áp dụng đồng dư để giảm số a nhỏ lai.\n",
    "$$\n",
    "a^{b} \\ mod \\ m = ((a \\ mod \\ m)^{b}) \\ mod \\ m\n",
    "$$\n",
    "Bước 2: Áp dụng thuật toán Exponentiation by squaring\n",
    "$$\n",
    "a^{b} = a * (a^{2})^{\\frac{b - 1}{2}} \\ nếu \\ b \\ là \\ số \\ lẻ\n",
    "$$\n",
    "\n",
    "$$\n",
    "a^{b} = (a^{2})^{\\frac{b}{2}} \\ nếu \\ b \\ là \\ số \\ chẳn\n",
    "$$"
   ]
  },
  {
   "cell_type": "markdown",
   "metadata": {},
   "source": [
    "## Modular Exponentiantion"
   ]
  },
  {
   "cell_type": "code",
   "execution_count": null,
   "metadata": {},
   "outputs": [],
   "source": [
    "def modularExponentiantion(a,b,m):\n",
    "    res = 1\n",
    "    a %= m\n",
    "    while b > 0:\n",
    "        if b % 2 == 1:\n",
    "            res = (res * a) % m\n",
    "        b //= 2\n",
    "        a = (a * a) % m\n",
    "    return res\n",
    "if __name__ == \"__main__\":\n",
    "    a = 50\n",
    "    b = 100\n",
    "    m = 13\n",
    "    res = modularExponentiantion(a, b, m)\n",
    "    print('Modular Exponentiantion: ', a, ' ^ ', b, ' (mod ', m, ') = ', res, sep = '')"
   ]
  },
  {
   "cell_type": "markdown",
   "metadata": {},
   "source": [
    "## Modular Exponentiantion BIT"
   ]
  },
  {
   "cell_type": "code",
   "execution_count": null,
   "metadata": {},
   "outputs": [],
   "source": [
    "def modularExponentiantion(a,b,m):\n",
    "    res = 1\n",
    "    a %= m\n",
    "    while b > 0:\n",
    "        if b & 1:\n",
    "            res = (res * a) % m\n",
    "        b >>= 1\n",
    "        a = (a * a) % m\n",
    "    return res\n",
    "\n",
    "if __name__ == \"__main__\":\n",
    "    a = 50\n",
    "    b = 100\n",
    "    m = 13\n",
    "    res = modularExponentiantion(a, b, m)\n",
    "    print('Modular Exponentiantion: ', a, ' ^ ', b, ' (mod ', m, ') = ', res, sep = '')"
   ]
  },
  {
   "cell_type": "markdown",
   "metadata": {},
   "source": [
    "## Modular multiplicative inverse\n",
    "\n",
    "Modular multiplicative inverse: Cho bạn 2 số, b và m, tìm nghịch đảo của b theo modulo m\n",
    "Gọi x là nghịch đảo của b theo modulo m:\n",
    "\n",
    "`bx mod m = 1` hoặc `bx = 1 mod m`"
   ]
  },
  {
   "cell_type": "code",
   "execution_count": null,
   "metadata": {},
   "outputs": [],
   "source": [
    "def modInverse(b, m):\n",
    "    b = b % m\n",
    "    for x in range(1, m):\n",
    "        r = (b * x) % m\n",
    "        if r == 1:\n",
    "            return x\n",
    "    return -1\n",
    "\n",
    "if __name__ == \"__main__\":\n",
    "    b = 5\n",
    "    m = 11\n",
    "    print(modInverse(b, m))"
   ]
  },
  {
   "cell_type": "markdown",
   "metadata": {},
   "source": [
    "## Fermat's little theorem"
   ]
  },
  {
   "cell_type": "markdown",
   "metadata": {},
   "source": [
    "$$\n",
    "b^{m - 1} = 1 \\ mod \\ m\n",
    "$$\n",
    "\n",
    "Suy ra :\n",
    "\n",
    "$$\n",
    "x = b^{m - 2} \\ mod \\ m\n",
    "$$"
   ]
  },
  {
   "cell_type": "code",
   "execution_count": null,
   "metadata": {},
   "outputs": [],
   "source": [
    "def modularExponentiantion(a,b,m):\n",
    "    res = 1\n",
    "    a %= m\n",
    "    while b > 0:\n",
    "        if b % 2 == 1:\n",
    "            res = (res * a) % m\n",
    "        b //= 2\n",
    "        a = (a * a) % m\n",
    "    return res\n",
    "\n",
    "def modInverse(b, m):\n",
    "    res = modularExponentiantion(b, m - 2, m)\n",
    "    if (res * b) % m == 1:\n",
    "        return res\n",
    "    return -1\n",
    "\n",
    "if __name__ == \"__main__\":\n",
    "    b = 5\n",
    "    m = 11\n",
    "    print(modInverse(b, m))"
   ]
  },
  {
   "cell_type": "markdown",
   "metadata": {},
   "source": [
    "## Euclidean algorithm"
   ]
  },
  {
   "cell_type": "code",
   "execution_count": null,
   "metadata": {},
   "outputs": [],
   "source": [
    "def gcd(a, b):\n",
    "    while b != 0:\n",
    "        remainder = a % b\n",
    "        a = b\n",
    "        b = remainder\n",
    "    return a"
   ]
  },
  {
   "cell_type": "markdown",
   "metadata": {},
   "source": [
    "## Extended Euclidean algorithm"
   ]
  },
  {
   "cell_type": "code",
   "execution_count": 4,
   "metadata": {},
   "outputs": [
    {
     "name": "stdout",
     "output_type": "stream",
     "text": [
      "Modular multiplicative inverse is:  52\n",
      "None\n"
     ]
    }
   ],
   "source": [
    "def extendedEuclid(b, m):\n",
    "    res = []\n",
    "    x1 = 0\n",
    "    y1 = 1\n",
    "    x2 = 1\n",
    "    y2 = 0\n",
    "    x = 1\n",
    "    y = 0\n",
    "    while m != 0:\n",
    "        q = b // m\n",
    "        r = b % m\n",
    "        x = x2 - q * x1\n",
    "        y = y2 - q * y1\n",
    "        x2 = x1\n",
    "        y2 = y1\n",
    "        x1 = x\n",
    "        y1 = y\n",
    "        b = m\n",
    "        m = r\n",
    "    res.append(b)\n",
    "    res.append(x2)\n",
    "    res.append(y2)\n",
    "    return res\n",
    "\n",
    "def modInverse(b, m):\n",
    "    res = extendedEuclid(b, m)\n",
    "    gcd = res[0]\n",
    "    x = res[1]\n",
    "    y = res[2]\n",
    "    if (gcd != 1):\n",
    "        print(\"Inverse doesn't exist\")\n",
    "    else:\n",
    "        print(\"Modular multiplicative inverse is: \", (x + m) % m)\n",
    "\n",
    "if __name__ == \"__main__\":\n",
    "    b = 19\n",
    "    m = 141\n",
    "    print(modInverse(b, m))"
   ]
  }
 ],
 "metadata": {
  "kernelspec": {
   "display_name": "Python 3",
   "language": "python",
   "name": "python3"
  },
  "language_info": {
   "codemirror_mode": {
    "name": "ipython",
    "version": 3
   },
   "file_extension": ".py",
   "mimetype": "text/x-python",
   "name": "python",
   "nbconvert_exporter": "python",
   "pygments_lexer": "ipython3",
   "version": "3.8.0"
  }
 },
 "nbformat": 4,
 "nbformat_minor": 4
}
